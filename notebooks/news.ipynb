{
 "cells": [
  {
   "cell_type": "markdown",
   "metadata": {},
   "source": [
    "# Guardian News Fetcher"
   ]
  },
  {
   "cell_type": "code",
   "execution_count": 1,
   "metadata": {},
   "outputs": [],
   "source": [
    "import requests\n",
    "import json \n",
    "import pandas as pd\n",
    "import html2text\n",
    "import tqdm.notebook as tqdm\n",
    "import copy\n",
    "import numpy as np\n",
    "import matplotlib.pyplot as plt\n",
    "\n",
    "GUARDIAN_API_KEY =  \"6c15c612-076e-4fff-9023-194e033a4c85\""
   ]
  },
  {
   "cell_type": "markdown",
   "metadata": {},
   "source": [
    "## Utility Functions"
   ]
  },
  {
   "cell_type": "code",
   "execution_count": 2,
   "metadata": {},
   "outputs": [],
   "source": [
    "def print_json(results): \n",
    "    print(json.dumps(results, indent=2))\n",
    "\n",
    "h = html2text.HTML2Text()\n",
    "h.ignore_links = True"
   ]
  },
  {
   "cell_type": "markdown",
   "metadata": {},
   "source": [
    "1. Get total number of pages of articles containing the words \"coronavirus\" and \"covid-19\""
   ]
  },
  {
   "cell_type": "code",
   "execution_count": 3,
   "metadata": {
    "scrolled": false
   },
   "outputs": [],
   "source": [
    "search_query = 'coronavirus|covid-19'\n",
    "from_date = '2019-12-25'\n",
    "order_by = 'oldest'\n",
    "page_size = '50'\n",
    "fields = 'headline'\n",
    "blocks = 'body'\n",
    "\n",
    "fetch_url = f'https://content.guardianapis.com/search?q={search_query}&from-date={from_date}&order-by={order_by}&page-size={page_size}&show-fields={fields}&show-blocks={blocks}&api-key={GUARDIAN_API_KEY}'\n",
    "\n",
    "r = requests.get(fetch_url).json()\n",
    "\n",
    "number_of_pages = r['response']['pages']\n"
   ]
  },
  {
   "cell_type": "markdown",
   "metadata": {},
   "source": [
    "2. Fetch every article from every page"
   ]
  },
  {
   "cell_type": "code",
   "execution_count": 4,
   "metadata": {},
   "outputs": [
    {
     "data": {
      "application/vnd.jupyter.widget-view+json": {
       "model_id": "0d70f6a6bde2416c9834660752cf8767",
       "version_major": 2,
       "version_minor": 0
      },
      "text/plain": [
       "HBox(children=(IntProgress(value=0, max=59), HTML(value='')))"
      ]
     },
     "metadata": {},
     "output_type": "display_data"
    },
    {
     "data": {
      "application/vnd.jupyter.widget-view+json": {
       "model_id": "",
       "version_major": 2,
       "version_minor": 0
      },
      "text/plain": [
       "HBox(children=(IntProgress(value=0, max=50), HTML(value='')))"
      ]
     },
     "metadata": {},
     "output_type": "display_data"
    },
    {
     "data": {
      "application/vnd.jupyter.widget-view+json": {
       "model_id": "",
       "version_major": 2,
       "version_minor": 0
      },
      "text/plain": [
       "HBox(children=(IntProgress(value=0, max=50), HTML(value='')))"
      ]
     },
     "metadata": {},
     "output_type": "display_data"
    },
    {
     "data": {
      "application/vnd.jupyter.widget-view+json": {
       "model_id": "",
       "version_major": 2,
       "version_minor": 0
      },
      "text/plain": [
       "HBox(children=(IntProgress(value=0, max=50), HTML(value='')))"
      ]
     },
     "metadata": {},
     "output_type": "display_data"
    },
    {
     "data": {
      "application/vnd.jupyter.widget-view+json": {
       "model_id": "",
       "version_major": 2,
       "version_minor": 0
      },
      "text/plain": [
       "HBox(children=(IntProgress(value=0, max=50), HTML(value='')))"
      ]
     },
     "metadata": {},
     "output_type": "display_data"
    },
    {
     "data": {
      "application/vnd.jupyter.widget-view+json": {
       "model_id": "",
       "version_major": 2,
       "version_minor": 0
      },
      "text/plain": [
       "HBox(children=(IntProgress(value=0, max=50), HTML(value='')))"
      ]
     },
     "metadata": {},
     "output_type": "display_data"
    },
    {
     "data": {
      "application/vnd.jupyter.widget-view+json": {
       "model_id": "",
       "version_major": 2,
       "version_minor": 0
      },
      "text/plain": [
       "HBox(children=(IntProgress(value=0, max=50), HTML(value='')))"
      ]
     },
     "metadata": {},
     "output_type": "display_data"
    },
    {
     "data": {
      "application/vnd.jupyter.widget-view+json": {
       "model_id": "",
       "version_major": 2,
       "version_minor": 0
      },
      "text/plain": [
       "HBox(children=(IntProgress(value=0, max=50), HTML(value='')))"
      ]
     },
     "metadata": {},
     "output_type": "display_data"
    },
    {
     "data": {
      "application/vnd.jupyter.widget-view+json": {
       "model_id": "",
       "version_major": 2,
       "version_minor": 0
      },
      "text/plain": [
       "HBox(children=(IntProgress(value=0, max=50), HTML(value='')))"
      ]
     },
     "metadata": {},
     "output_type": "display_data"
    },
    {
     "data": {
      "application/vnd.jupyter.widget-view+json": {
       "model_id": "",
       "version_major": 2,
       "version_minor": 0
      },
      "text/plain": [
       "HBox(children=(IntProgress(value=0, max=50), HTML(value='')))"
      ]
     },
     "metadata": {},
     "output_type": "display_data"
    },
    {
     "data": {
      "application/vnd.jupyter.widget-view+json": {
       "model_id": "",
       "version_major": 2,
       "version_minor": 0
      },
      "text/plain": [
       "HBox(children=(IntProgress(value=0, max=50), HTML(value='')))"
      ]
     },
     "metadata": {},
     "output_type": "display_data"
    },
    {
     "data": {
      "application/vnd.jupyter.widget-view+json": {
       "model_id": "",
       "version_major": 2,
       "version_minor": 0
      },
      "text/plain": [
       "HBox(children=(IntProgress(value=0, max=50), HTML(value='')))"
      ]
     },
     "metadata": {},
     "output_type": "display_data"
    },
    {
     "data": {
      "application/vnd.jupyter.widget-view+json": {
       "model_id": "",
       "version_major": 2,
       "version_minor": 0
      },
      "text/plain": [
       "HBox(children=(IntProgress(value=0, max=50), HTML(value='')))"
      ]
     },
     "metadata": {},
     "output_type": "display_data"
    },
    {
     "data": {
      "application/vnd.jupyter.widget-view+json": {
       "model_id": "",
       "version_major": 2,
       "version_minor": 0
      },
      "text/plain": [
       "HBox(children=(IntProgress(value=0, max=50), HTML(value='')))"
      ]
     },
     "metadata": {},
     "output_type": "display_data"
    },
    {
     "data": {
      "application/vnd.jupyter.widget-view+json": {
       "model_id": "",
       "version_major": 2,
       "version_minor": 0
      },
      "text/plain": [
       "HBox(children=(IntProgress(value=0, max=50), HTML(value='')))"
      ]
     },
     "metadata": {},
     "output_type": "display_data"
    },
    {
     "data": {
      "application/vnd.jupyter.widget-view+json": {
       "model_id": "",
       "version_major": 2,
       "version_minor": 0
      },
      "text/plain": [
       "HBox(children=(IntProgress(value=0, max=50), HTML(value='')))"
      ]
     },
     "metadata": {},
     "output_type": "display_data"
    },
    {
     "data": {
      "application/vnd.jupyter.widget-view+json": {
       "model_id": "",
       "version_major": 2,
       "version_minor": 0
      },
      "text/plain": [
       "HBox(children=(IntProgress(value=0, max=50), HTML(value='')))"
      ]
     },
     "metadata": {},
     "output_type": "display_data"
    },
    {
     "data": {
      "application/vnd.jupyter.widget-view+json": {
       "model_id": "",
       "version_major": 2,
       "version_minor": 0
      },
      "text/plain": [
       "HBox(children=(IntProgress(value=0, max=50), HTML(value='')))"
      ]
     },
     "metadata": {},
     "output_type": "display_data"
    },
    {
     "data": {
      "application/vnd.jupyter.widget-view+json": {
       "model_id": "",
       "version_major": 2,
       "version_minor": 0
      },
      "text/plain": [
       "HBox(children=(IntProgress(value=0, max=50), HTML(value='')))"
      ]
     },
     "metadata": {},
     "output_type": "display_data"
    },
    {
     "data": {
      "application/vnd.jupyter.widget-view+json": {
       "model_id": "",
       "version_major": 2,
       "version_minor": 0
      },
      "text/plain": [
       "HBox(children=(IntProgress(value=0, max=50), HTML(value='')))"
      ]
     },
     "metadata": {},
     "output_type": "display_data"
    },
    {
     "data": {
      "application/vnd.jupyter.widget-view+json": {
       "model_id": "",
       "version_major": 2,
       "version_minor": 0
      },
      "text/plain": [
       "HBox(children=(IntProgress(value=0, max=50), HTML(value='')))"
      ]
     },
     "metadata": {},
     "output_type": "display_data"
    },
    {
     "data": {
      "application/vnd.jupyter.widget-view+json": {
       "model_id": "",
       "version_major": 2,
       "version_minor": 0
      },
      "text/plain": [
       "HBox(children=(IntProgress(value=0, max=50), HTML(value='')))"
      ]
     },
     "metadata": {},
     "output_type": "display_data"
    },
    {
     "data": {
      "application/vnd.jupyter.widget-view+json": {
       "model_id": "",
       "version_major": 2,
       "version_minor": 0
      },
      "text/plain": [
       "HBox(children=(IntProgress(value=0, max=50), HTML(value='')))"
      ]
     },
     "metadata": {},
     "output_type": "display_data"
    },
    {
     "data": {
      "application/vnd.jupyter.widget-view+json": {
       "model_id": "",
       "version_major": 2,
       "version_minor": 0
      },
      "text/plain": [
       "HBox(children=(IntProgress(value=0, max=50), HTML(value='')))"
      ]
     },
     "metadata": {},
     "output_type": "display_data"
    },
    {
     "data": {
      "application/vnd.jupyter.widget-view+json": {
       "model_id": "",
       "version_major": 2,
       "version_minor": 0
      },
      "text/plain": [
       "HBox(children=(IntProgress(value=0, max=50), HTML(value='')))"
      ]
     },
     "metadata": {},
     "output_type": "display_data"
    },
    {
     "data": {
      "application/vnd.jupyter.widget-view+json": {
       "model_id": "",
       "version_major": 2,
       "version_minor": 0
      },
      "text/plain": [
       "HBox(children=(IntProgress(value=0, max=50), HTML(value='')))"
      ]
     },
     "metadata": {},
     "output_type": "display_data"
    },
    {
     "data": {
      "application/vnd.jupyter.widget-view+json": {
       "model_id": "",
       "version_major": 2,
       "version_minor": 0
      },
      "text/plain": [
       "HBox(children=(IntProgress(value=0, max=50), HTML(value='')))"
      ]
     },
     "metadata": {},
     "output_type": "display_data"
    },
    {
     "data": {
      "application/vnd.jupyter.widget-view+json": {
       "model_id": "",
       "version_major": 2,
       "version_minor": 0
      },
      "text/plain": [
       "HBox(children=(IntProgress(value=0, max=50), HTML(value='')))"
      ]
     },
     "metadata": {},
     "output_type": "display_data"
    },
    {
     "data": {
      "application/vnd.jupyter.widget-view+json": {
       "model_id": "",
       "version_major": 2,
       "version_minor": 0
      },
      "text/plain": [
       "HBox(children=(IntProgress(value=0, max=50), HTML(value='')))"
      ]
     },
     "metadata": {},
     "output_type": "display_data"
    },
    {
     "data": {
      "application/vnd.jupyter.widget-view+json": {
       "model_id": "",
       "version_major": 2,
       "version_minor": 0
      },
      "text/plain": [
       "HBox(children=(IntProgress(value=0, max=50), HTML(value='')))"
      ]
     },
     "metadata": {},
     "output_type": "display_data"
    },
    {
     "data": {
      "application/vnd.jupyter.widget-view+json": {
       "model_id": "",
       "version_major": 2,
       "version_minor": 0
      },
      "text/plain": [
       "HBox(children=(IntProgress(value=0, max=50), HTML(value='')))"
      ]
     },
     "metadata": {},
     "output_type": "display_data"
    },
    {
     "data": {
      "application/vnd.jupyter.widget-view+json": {
       "model_id": "",
       "version_major": 2,
       "version_minor": 0
      },
      "text/plain": [
       "HBox(children=(IntProgress(value=0, max=50), HTML(value='')))"
      ]
     },
     "metadata": {},
     "output_type": "display_data"
    },
    {
     "data": {
      "application/vnd.jupyter.widget-view+json": {
       "model_id": "",
       "version_major": 2,
       "version_minor": 0
      },
      "text/plain": [
       "HBox(children=(IntProgress(value=0, max=50), HTML(value='')))"
      ]
     },
     "metadata": {},
     "output_type": "display_data"
    },
    {
     "data": {
      "application/vnd.jupyter.widget-view+json": {
       "model_id": "",
       "version_major": 2,
       "version_minor": 0
      },
      "text/plain": [
       "HBox(children=(IntProgress(value=0, max=50), HTML(value='')))"
      ]
     },
     "metadata": {},
     "output_type": "display_data"
    },
    {
     "data": {
      "application/vnd.jupyter.widget-view+json": {
       "model_id": "",
       "version_major": 2,
       "version_minor": 0
      },
      "text/plain": [
       "HBox(children=(IntProgress(value=0, max=50), HTML(value='')))"
      ]
     },
     "metadata": {},
     "output_type": "display_data"
    },
    {
     "data": {
      "application/vnd.jupyter.widget-view+json": {
       "model_id": "",
       "version_major": 2,
       "version_minor": 0
      },
      "text/plain": [
       "HBox(children=(IntProgress(value=0, max=50), HTML(value='')))"
      ]
     },
     "metadata": {},
     "output_type": "display_data"
    },
    {
     "data": {
      "application/vnd.jupyter.widget-view+json": {
       "model_id": "",
       "version_major": 2,
       "version_minor": 0
      },
      "text/plain": [
       "HBox(children=(IntProgress(value=0, max=50), HTML(value='')))"
      ]
     },
     "metadata": {},
     "output_type": "display_data"
    },
    {
     "data": {
      "application/vnd.jupyter.widget-view+json": {
       "model_id": "",
       "version_major": 2,
       "version_minor": 0
      },
      "text/plain": [
       "HBox(children=(IntProgress(value=0, max=50), HTML(value='')))"
      ]
     },
     "metadata": {},
     "output_type": "display_data"
    },
    {
     "data": {
      "application/vnd.jupyter.widget-view+json": {
       "model_id": "",
       "version_major": 2,
       "version_minor": 0
      },
      "text/plain": [
       "HBox(children=(IntProgress(value=0, max=50), HTML(value='')))"
      ]
     },
     "metadata": {},
     "output_type": "display_data"
    },
    {
     "data": {
      "application/vnd.jupyter.widget-view+json": {
       "model_id": "",
       "version_major": 2,
       "version_minor": 0
      },
      "text/plain": [
       "HBox(children=(IntProgress(value=0, max=50), HTML(value='')))"
      ]
     },
     "metadata": {},
     "output_type": "display_data"
    },
    {
     "data": {
      "application/vnd.jupyter.widget-view+json": {
       "model_id": "",
       "version_major": 2,
       "version_minor": 0
      },
      "text/plain": [
       "HBox(children=(IntProgress(value=0, max=50), HTML(value='')))"
      ]
     },
     "metadata": {},
     "output_type": "display_data"
    },
    {
     "data": {
      "application/vnd.jupyter.widget-view+json": {
       "model_id": "",
       "version_major": 2,
       "version_minor": 0
      },
      "text/plain": [
       "HBox(children=(IntProgress(value=0, max=50), HTML(value='')))"
      ]
     },
     "metadata": {},
     "output_type": "display_data"
    },
    {
     "data": {
      "application/vnd.jupyter.widget-view+json": {
       "model_id": "",
       "version_major": 2,
       "version_minor": 0
      },
      "text/plain": [
       "HBox(children=(IntProgress(value=0, max=50), HTML(value='')))"
      ]
     },
     "metadata": {},
     "output_type": "display_data"
    },
    {
     "data": {
      "application/vnd.jupyter.widget-view+json": {
       "model_id": "",
       "version_major": 2,
       "version_minor": 0
      },
      "text/plain": [
       "HBox(children=(IntProgress(value=0, max=50), HTML(value='')))"
      ]
     },
     "metadata": {},
     "output_type": "display_data"
    },
    {
     "data": {
      "application/vnd.jupyter.widget-view+json": {
       "model_id": "",
       "version_major": 2,
       "version_minor": 0
      },
      "text/plain": [
       "HBox(children=(IntProgress(value=0, max=50), HTML(value='')))"
      ]
     },
     "metadata": {},
     "output_type": "display_data"
    },
    {
     "data": {
      "application/vnd.jupyter.widget-view+json": {
       "model_id": "",
       "version_major": 2,
       "version_minor": 0
      },
      "text/plain": [
       "HBox(children=(IntProgress(value=0, max=50), HTML(value='')))"
      ]
     },
     "metadata": {},
     "output_type": "display_data"
    },
    {
     "data": {
      "application/vnd.jupyter.widget-view+json": {
       "model_id": "",
       "version_major": 2,
       "version_minor": 0
      },
      "text/plain": [
       "HBox(children=(IntProgress(value=0, max=50), HTML(value='')))"
      ]
     },
     "metadata": {},
     "output_type": "display_data"
    },
    {
     "data": {
      "application/vnd.jupyter.widget-view+json": {
       "model_id": "",
       "version_major": 2,
       "version_minor": 0
      },
      "text/plain": [
       "HBox(children=(IntProgress(value=0, max=50), HTML(value='')))"
      ]
     },
     "metadata": {},
     "output_type": "display_data"
    },
    {
     "data": {
      "application/vnd.jupyter.widget-view+json": {
       "model_id": "",
       "version_major": 2,
       "version_minor": 0
      },
      "text/plain": [
       "HBox(children=(IntProgress(value=0, max=50), HTML(value='')))"
      ]
     },
     "metadata": {},
     "output_type": "display_data"
    },
    {
     "data": {
      "application/vnd.jupyter.widget-view+json": {
       "model_id": "",
       "version_major": 2,
       "version_minor": 0
      },
      "text/plain": [
       "HBox(children=(IntProgress(value=0, max=50), HTML(value='')))"
      ]
     },
     "metadata": {},
     "output_type": "display_data"
    },
    {
     "data": {
      "application/vnd.jupyter.widget-view+json": {
       "model_id": "",
       "version_major": 2,
       "version_minor": 0
      },
      "text/plain": [
       "HBox(children=(IntProgress(value=0, max=50), HTML(value='')))"
      ]
     },
     "metadata": {},
     "output_type": "display_data"
    },
    {
     "data": {
      "application/vnd.jupyter.widget-view+json": {
       "model_id": "",
       "version_major": 2,
       "version_minor": 0
      },
      "text/plain": [
       "HBox(children=(IntProgress(value=0, max=50), HTML(value='')))"
      ]
     },
     "metadata": {},
     "output_type": "display_data"
    },
    {
     "data": {
      "application/vnd.jupyter.widget-view+json": {
       "model_id": "",
       "version_major": 2,
       "version_minor": 0
      },
      "text/plain": [
       "HBox(children=(IntProgress(value=0, max=50), HTML(value='')))"
      ]
     },
     "metadata": {},
     "output_type": "display_data"
    },
    {
     "data": {
      "application/vnd.jupyter.widget-view+json": {
       "model_id": "",
       "version_major": 2,
       "version_minor": 0
      },
      "text/plain": [
       "HBox(children=(IntProgress(value=0, max=50), HTML(value='')))"
      ]
     },
     "metadata": {},
     "output_type": "display_data"
    },
    {
     "data": {
      "application/vnd.jupyter.widget-view+json": {
       "model_id": "",
       "version_major": 2,
       "version_minor": 0
      },
      "text/plain": [
       "HBox(children=(IntProgress(value=0, max=50), HTML(value='')))"
      ]
     },
     "metadata": {},
     "output_type": "display_data"
    },
    {
     "data": {
      "application/vnd.jupyter.widget-view+json": {
       "model_id": "",
       "version_major": 2,
       "version_minor": 0
      },
      "text/plain": [
       "HBox(children=(IntProgress(value=0, max=50), HTML(value='')))"
      ]
     },
     "metadata": {},
     "output_type": "display_data"
    },
    {
     "data": {
      "application/vnd.jupyter.widget-view+json": {
       "model_id": "",
       "version_major": 2,
       "version_minor": 0
      },
      "text/plain": [
       "HBox(children=(IntProgress(value=0, max=50), HTML(value='')))"
      ]
     },
     "metadata": {},
     "output_type": "display_data"
    },
    {
     "data": {
      "application/vnd.jupyter.widget-view+json": {
       "model_id": "",
       "version_major": 2,
       "version_minor": 0
      },
      "text/plain": [
       "HBox(children=(IntProgress(value=0, max=50), HTML(value='')))"
      ]
     },
     "metadata": {},
     "output_type": "display_data"
    },
    {
     "data": {
      "application/vnd.jupyter.widget-view+json": {
       "model_id": "",
       "version_major": 2,
       "version_minor": 0
      },
      "text/plain": [
       "HBox(children=(IntProgress(value=0, max=50), HTML(value='')))"
      ]
     },
     "metadata": {},
     "output_type": "display_data"
    },
    {
     "data": {
      "application/vnd.jupyter.widget-view+json": {
       "model_id": "",
       "version_major": 2,
       "version_minor": 0
      },
      "text/plain": [
       "HBox(children=(IntProgress(value=0, max=30), HTML(value='')))"
      ]
     },
     "metadata": {},
     "output_type": "display_data"
    },
    {
     "name": "stdout",
     "output_type": "stream",
     "text": [
      "\n",
      "Number of articles found: 2930\n"
     ]
    }
   ],
   "source": [
    "content = {}\n",
    "\n",
    "content_no = 0\n",
    "\n",
    "for page in tqdm.tqdm(range(1, number_of_pages + 1)):\n",
    "    fetch_url = f'https://content.guardianapis.com/search?q={search_query}&from-date={from_date}&order-by={order_by}&page-size={page_size}&show-fields={fields}&show-blocks={blocks}&page={page}&api-key={GUARDIAN_API_KEY}'\n",
    "    r = requests.get(fetch_url).json()\n",
    "   \n",
    "    results = r['response']['results']   \n",
    "\n",
    "    for result in tqdm.tqdm(results, leave=False):\n",
    "        \n",
    "        content[content_no] = {\n",
    "            'id': result['id'],\n",
    "            'section': result['sectionName'],\n",
    "            'date_published': result['webPublicationDate'],\n",
    "            'headline': result['fields']['headline'],\n",
    "            'url': result['webUrl'],\n",
    "            'body': h.handle(result['blocks']['body'][0]['bodyHtml'])\n",
    "        }\n",
    "        \n",
    "        content_no += 1\n",
    "\n",
    "print(f\"Number of articles found: {len(content.keys())}\")   "
   ]
  },
  {
   "cell_type": "markdown",
   "metadata": {},
   "source": [
    "3. Preprocess the data to remove any articles without the words \"coronavirus\" or \"covid-19\""
   ]
  },
  {
   "cell_type": "code",
   "execution_count": 5,
   "metadata": {},
   "outputs": [
    {
     "data": {
      "application/vnd.jupyter.widget-view+json": {
       "model_id": "9eeec0b7313443f499b764abad7a7b98",
       "version_major": 2,
       "version_minor": 0
      },
      "text/plain": [
       "HBox(children=(IntProgress(value=0, max=2930), HTML(value='')))"
      ]
     },
     "metadata": {},
     "output_type": "display_data"
    },
    {
     "name": "stdout",
     "output_type": "stream",
     "text": [
      "\n"
     ]
    }
   ],
   "source": [
    "ids = list(content.keys())\n",
    "\n",
    "for id in tqdm.tqdm(ids):\n",
    "    entry = content[id]\n",
    "    body = entry['body']\n",
    "    body = body.split()\n",
    "        \n",
    "    no_coronavirus = \"coronavirus\" not in body\n",
    "    no_covid19 = \"covid-19\" not in body\n",
    "    no_COVID19 = \"COVID-19\" not in body\n",
    "        \n",
    "    if no_coronavirus and no_covid19 and no_COVID19:\n",
    "        content.pop(id)\n",
    "\n",
    "# Create final dict with correct article no\n",
    "processed_content = {}\n",
    "content_no = 0\n",
    "        \n",
    "for id in content.keys():\n",
    "    processed_content[content_no] = content[id]\n",
    "    content_no += 1"
   ]
  },
  {
   "cell_type": "markdown",
   "metadata": {},
   "source": [
    "4. Save data as `json`"
   ]
  },
  {
   "cell_type": "code",
   "execution_count": 7,
   "metadata": {},
   "outputs": [],
   "source": [
    "with open('news.json', 'w') as fp:\n",
    "    json.dump(processed_content, fp)"
   ]
  },
  {
   "cell_type": "markdown",
   "metadata": {},
   "source": [
    "## Visualisations"
   ]
  },
  {
   "cell_type": "code",
   "execution_count": 28,
   "metadata": {
    "scrolled": false
   },
   "outputs": [
    {
     "data": {
      "text/html": [
       "<div>\n",
       "<style scoped>\n",
       "    .dataframe tbody tr th:only-of-type {\n",
       "        vertical-align: middle;\n",
       "    }\n",
       "\n",
       "    .dataframe tbody tr th {\n",
       "        vertical-align: top;\n",
       "    }\n",
       "\n",
       "    .dataframe thead th {\n",
       "        text-align: right;\n",
       "    }\n",
       "</style>\n",
       "<table border=\"1\" class=\"dataframe\">\n",
       "  <thead>\n",
       "    <tr style=\"text-align: right;\">\n",
       "      <th></th>\n",
       "      <th>id</th>\n",
       "      <th>section</th>\n",
       "      <th>date_published</th>\n",
       "      <th>headline</th>\n",
       "      <th>url</th>\n",
       "      <th>body</th>\n",
       "    </tr>\n",
       "  </thead>\n",
       "  <tbody>\n",
       "    <tr>\n",
       "      <th>4</th>\n",
       "      <td>society/2020/jan/18/expert-questions-effective...</td>\n",
       "      <td>Society</td>\n",
       "      <td>2020-01-18T19:20:36Z</td>\n",
       "      <td>Expert questions effectiveness of coronavirus ...</td>\n",
       "      <td>https://www.theguardian.com/society/2020/jan/1...</td>\n",
       "      <td>\\n\\nMedical staff at airports trying to screen...</td>\n",
       "    </tr>\n",
       "    <tr>\n",
       "      <th>100</th>\n",
       "      <td>society/2020/jan/29/uk-supermarkets-move-to-cu...</td>\n",
       "      <td>Society</td>\n",
       "      <td>2020-01-29T06:00:39Z</td>\n",
       "      <td>UK supermarkets move to cut antibiotic use in ...</td>\n",
       "      <td>https://www.theguardian.com/society/2020/jan/2...</td>\n",
       "      <td>\\n\\nMost of the UK’s leading supermarket chain...</td>\n",
       "    </tr>\n",
       "    <tr>\n",
       "      <th>109</th>\n",
       "      <td>society/2020/jan/29/boris-johnsons-chinese-hos...</td>\n",
       "      <td>Society</td>\n",
       "      <td>2020-01-29T18:14:54Z</td>\n",
       "      <td>Boris Johnson’s Chinese hospital challenge</td>\n",
       "      <td>https://www.theguardian.com/society/2020/jan/2...</td>\n",
       "      <td>\\n\\nIn response to the country’s coronavirus o...</td>\n",
       "    </tr>\n",
       "    <tr>\n",
       "      <th>472</th>\n",
       "      <td>society/2020/feb/18/gps-overstretched-planning...</td>\n",
       "      <td>Society</td>\n",
       "      <td>2020-02-18T12:00:26Z</td>\n",
       "      <td>GPs are already overstretched. We need better ...</td>\n",
       "      <td>https://www.theguardian.com/society/2020/feb/1...</td>\n",
       "      <td>\\n\\nIt is 8am and amid the morning rush of cal...</td>\n",
       "    </tr>\n",
       "    <tr>\n",
       "      <th>675</th>\n",
       "      <td>society/2020/feb/27/coronavirus-england-only-h...</td>\n",
       "      <td>Society</td>\n",
       "      <td>2020-02-27T18:07:29Z</td>\n",
       "      <td>Coronavirus: England only has 15 beds for wors...</td>\n",
       "      <td>https://www.theguardian.com/society/2020/feb/2...</td>\n",
       "      <td>\\n\\nEngland only has 15 available beds for adu...</td>\n",
       "    </tr>\n",
       "    <tr>\n",
       "      <th>823</th>\n",
       "      <td>society/2020/mar/02/coronavirus-just-eight-out...</td>\n",
       "      <td>Society</td>\n",
       "      <td>2020-03-02T15:22:52Z</td>\n",
       "      <td>Coronavirus: just eight out of 1,600 doctors i...</td>\n",
       "      <td>https://www.theguardian.com/society/2020/mar/0...</td>\n",
       "      <td>\\n\\nAn overwhelming majority of doctors fear t...</td>\n",
       "    </tr>\n",
       "    <tr>\n",
       "      <th>879</th>\n",
       "      <td>society/2020/mar/03/coronavirus-care-workers-i...</td>\n",
       "      <td>Society</td>\n",
       "      <td>2020-03-03T12:00:11Z</td>\n",
       "      <td>We crumblies are less afraid of the coronaviru...</td>\n",
       "      <td>https://www.theguardian.com/society/2020/mar/0...</td>\n",
       "      <td>\\n\\n“If someone’s going to make my breakfast, ...</td>\n",
       "    </tr>\n",
       "    <tr>\n",
       "      <th>963</th>\n",
       "      <td>society/2020/mar/04/prof-chris-whitty-the-expe...</td>\n",
       "      <td>Society</td>\n",
       "      <td>2020-03-04T18:15:20Z</td>\n",
       "      <td>Prof Chris Whitty: the expert we need in the c...</td>\n",
       "      <td>https://www.theguardian.com/society/2020/mar/0...</td>\n",
       "      <td>\\n\\nTo the broader public, Prof Chris Whitty, ...</td>\n",
       "    </tr>\n",
       "    <tr>\n",
       "      <th>970</th>\n",
       "      <td>society/2020/mar/04/care-workers-could-be-rede...</td>\n",
       "      <td>Society</td>\n",
       "      <td>2020-03-04T19:19:53Z</td>\n",
       "      <td>Care workers could be redeployed to UK coronav...</td>\n",
       "      <td>https://www.theguardian.com/society/2020/mar/0...</td>\n",
       "      <td>\\n\\nCare workers could be redeployed to look a...</td>\n",
       "    </tr>\n",
       "    <tr>\n",
       "      <th>1215</th>\n",
       "      <td>society/shortcuts/2020/mar/09/how-to-keep-your...</td>\n",
       "      <td>Society</td>\n",
       "      <td>2020-03-09T13:19:19Z</td>\n",
       "      <td>How to keep your hands clean – without getting...</td>\n",
       "      <td>https://www.theguardian.com/society/shortcuts/...</td>\n",
       "      <td>\\n\\nDue to coronavirus, Britain has become a n...</td>\n",
       "    </tr>\n",
       "    <tr>\n",
       "      <th>1299</th>\n",
       "      <td>society/2020/mar/10/government-fails-to-detail...</td>\n",
       "      <td>Society</td>\n",
       "      <td>2020-03-10T11:21:38Z</td>\n",
       "      <td>Government fails to detail how retired doctors...</td>\n",
       "      <td>https://www.theguardian.com/society/2020/mar/1...</td>\n",
       "      <td>\\n\\nThe government is under pressure to spell ...</td>\n",
       "    </tr>\n",
       "    <tr>\n",
       "      <th>1328</th>\n",
       "      <td>society/2020/mar/10/the-coronavirus-and-an-ove...</td>\n",
       "      <td>Society</td>\n",
       "      <td>2020-03-10T18:00:20Z</td>\n",
       "      <td>The coronavirus and an overstretched NHS</td>\n",
       "      <td>https://www.theguardian.com/society/2020/mar/1...</td>\n",
       "      <td>\\n\\nWith an evolving Covid-19 virus epidemic, ...</td>\n",
       "    </tr>\n",
       "    <tr>\n",
       "      <th>1653</th>\n",
       "      <td>society/2020/mar/13/why-regular-handwashing-ca...</td>\n",
       "      <td>Society</td>\n",
       "      <td>2020-03-13T15:20:25Z</td>\n",
       "      <td>The hellish side of handwashing: how coronavir...</td>\n",
       "      <td>https://www.theguardian.com/society/2020/mar/1...</td>\n",
       "      <td>\\n\\nBoris Johnson does it while singing Happy ...</td>\n",
       "    </tr>\n",
       "    <tr>\n",
       "      <th>1932</th>\n",
       "      <td>society/2020/mar/16/charities-face-cash-crisis...</td>\n",
       "      <td>Society</td>\n",
       "      <td>2020-03-16T16:38:09Z</td>\n",
       "      <td>Charities face cash crisis as virus fears hit ...</td>\n",
       "      <td>https://www.theguardian.com/society/2020/mar/1...</td>\n",
       "      <td>\\n\\nVoluntary-sector leaders are warning that ...</td>\n",
       "    </tr>\n",
       "    <tr>\n",
       "      <th>1939</th>\n",
       "      <td>society/2020/mar/16/st-mungos-staff-on-strike-...</td>\n",
       "      <td>Society</td>\n",
       "      <td>2020-03-16T17:40:36Z</td>\n",
       "      <td>St Mungo's staff strike over conditions and tr...</td>\n",
       "      <td>https://www.theguardian.com/society/2020/mar/1...</td>\n",
       "      <td>\\n\\nHundreds of workers at Britain’s biggest h...</td>\n",
       "    </tr>\n",
       "    <tr>\n",
       "      <th>1946</th>\n",
       "      <td>society/2020/mar/16/benefits-assessment-suspen...</td>\n",
       "      <td>Society</td>\n",
       "      <td>2020-03-16T18:30:49Z</td>\n",
       "      <td>Benefits assessment suspension does not go far...</td>\n",
       "      <td>https://www.theguardian.com/society/2020/mar/1...</td>\n",
       "      <td>\\n\\nThe mental health charity Mind has said th...</td>\n",
       "    </tr>\n",
       "    <tr>\n",
       "      <th>1968</th>\n",
       "      <td>society/2020/mar/16/not-fit-for-purpose-uk-med...</td>\n",
       "      <td>Society</td>\n",
       "      <td>2020-03-16T20:23:16Z</td>\n",
       "      <td>'Not fit for purpose': UK medics condemn Covid...</td>\n",
       "      <td>https://www.theguardian.com/society/2020/mar/1...</td>\n",
       "      <td>\\n\\nFrontline NHS staff are at risk of dying f...</td>\n",
       "    </tr>\n",
       "    <tr>\n",
       "      <th>2040</th>\n",
       "      <td>society/2020/mar/17/dogs-have-a-magic-effect-t...</td>\n",
       "      <td>Society</td>\n",
       "      <td>2020-03-17T11:15:53Z</td>\n",
       "      <td>‘Dogs have a magic effect’: how pets can impro...</td>\n",
       "      <td>https://www.theguardian.com/society/2020/mar/1...</td>\n",
       "      <td>\\n\\nWhat is it about animals? As the bad news ...</td>\n",
       "    </tr>\n",
       "    <tr>\n",
       "      <th>2071</th>\n",
       "      <td>society/shortcuts/2020/mar/17/how-to-help-food...</td>\n",
       "      <td>Society</td>\n",
       "      <td>2020-03-17T15:28:55Z</td>\n",
       "      <td>How to help food banks during the coronavirus ...</td>\n",
       "      <td>https://www.theguardian.com/society/shortcuts/...</td>\n",
       "      <td>\\n\\nAway from the stockpiling hordes, food ban...</td>\n",
       "    </tr>\n",
       "    <tr>\n",
       "      <th>2078</th>\n",
       "      <td>society/2020/mar/17/urgent-call-to-protect-hos...</td>\n",
       "      <td>Society</td>\n",
       "      <td>2020-03-17T16:08:34Z</td>\n",
       "      <td>Call to protect hospital staff from coronaviru...</td>\n",
       "      <td>https://www.theguardian.com/society/2020/mar/1...</td>\n",
       "      <td>\\n\\nScientists have issued an urgent call to p...</td>\n",
       "    </tr>\n",
       "    <tr>\n",
       "      <th>2095</th>\n",
       "      <td>society/2020/mar/17/housing-associations-under...</td>\n",
       "      <td>Society</td>\n",
       "      <td>2020-03-17T17:01:57Z</td>\n",
       "      <td>Housing associations under pressure to offer C...</td>\n",
       "      <td>https://www.theguardian.com/society/2020/mar/1...</td>\n",
       "      <td>\\n\\nHousing associations are under pressure to...</td>\n",
       "    </tr>\n",
       "    <tr>\n",
       "      <th>2120</th>\n",
       "      <td>society/2020/mar/17/nhs-postpone-millions-oper...</td>\n",
       "      <td>Society</td>\n",
       "      <td>2020-03-17T19:00:31Z</td>\n",
       "      <td>NHS to postpone millions of operations to tack...</td>\n",
       "      <td>https://www.theguardian.com/society/2020/mar/1...</td>\n",
       "      <td>\\n\\nMillions of operations are being postponed...</td>\n",
       "    </tr>\n",
       "    <tr>\n",
       "      <th>2204</th>\n",
       "      <td>world/2020/mar/18/coronavirus-online-therapy-s...</td>\n",
       "      <td>Society</td>\n",
       "      <td>2020-03-18T11:58:06Z</td>\n",
       "      <td>Coronavirus: online therapy service to offer f...</td>\n",
       "      <td>https://www.theguardian.com/world/2020/mar/18/...</td>\n",
       "      <td>\\n\\nAn online therapy service is to offer free...</td>\n",
       "    </tr>\n",
       "    <tr>\n",
       "      <th>2252</th>\n",
       "      <td>society/2020/mar/18/what-is-uk-government-advi...</td>\n",
       "      <td>Society</td>\n",
       "      <td>2020-03-18T16:53:49Z</td>\n",
       "      <td>What is the UK government's advice on social d...</td>\n",
       "      <td>https://www.theguardian.com/society/2020/mar/1...</td>\n",
       "      <td>\\n\\n## What is social distancing?\\n\\nSocial di...</td>\n",
       "    </tr>\n",
       "    <tr>\n",
       "      <th>2367</th>\n",
       "      <td>society/2020/mar/19/us-healthcare-industry-wor...</td>\n",
       "      <td>Society</td>\n",
       "      <td>2020-03-19T10:00:50Z</td>\n",
       "      <td>Deaths of despair: why America’s medical indus...</td>\n",
       "      <td>https://www.theguardian.com/society/2020/mar/1...</td>\n",
       "      <td>\\n\\nThe US healthcare system is helping to kil...</td>\n",
       "    </tr>\n",
       "  </tbody>\n",
       "</table>\n",
       "</div>"
      ],
      "text/plain": [
       "                                                     id  section  \\\n",
       "4     society/2020/jan/18/expert-questions-effective...  Society   \n",
       "100   society/2020/jan/29/uk-supermarkets-move-to-cu...  Society   \n",
       "109   society/2020/jan/29/boris-johnsons-chinese-hos...  Society   \n",
       "472   society/2020/feb/18/gps-overstretched-planning...  Society   \n",
       "675   society/2020/feb/27/coronavirus-england-only-h...  Society   \n",
       "823   society/2020/mar/02/coronavirus-just-eight-out...  Society   \n",
       "879   society/2020/mar/03/coronavirus-care-workers-i...  Society   \n",
       "963   society/2020/mar/04/prof-chris-whitty-the-expe...  Society   \n",
       "970   society/2020/mar/04/care-workers-could-be-rede...  Society   \n",
       "1215  society/shortcuts/2020/mar/09/how-to-keep-your...  Society   \n",
       "1299  society/2020/mar/10/government-fails-to-detail...  Society   \n",
       "1328  society/2020/mar/10/the-coronavirus-and-an-ove...  Society   \n",
       "1653  society/2020/mar/13/why-regular-handwashing-ca...  Society   \n",
       "1932  society/2020/mar/16/charities-face-cash-crisis...  Society   \n",
       "1939  society/2020/mar/16/st-mungos-staff-on-strike-...  Society   \n",
       "1946  society/2020/mar/16/benefits-assessment-suspen...  Society   \n",
       "1968  society/2020/mar/16/not-fit-for-purpose-uk-med...  Society   \n",
       "2040  society/2020/mar/17/dogs-have-a-magic-effect-t...  Society   \n",
       "2071  society/shortcuts/2020/mar/17/how-to-help-food...  Society   \n",
       "2078  society/2020/mar/17/urgent-call-to-protect-hos...  Society   \n",
       "2095  society/2020/mar/17/housing-associations-under...  Society   \n",
       "2120  society/2020/mar/17/nhs-postpone-millions-oper...  Society   \n",
       "2204  world/2020/mar/18/coronavirus-online-therapy-s...  Society   \n",
       "2252  society/2020/mar/18/what-is-uk-government-advi...  Society   \n",
       "2367  society/2020/mar/19/us-healthcare-industry-wor...  Society   \n",
       "\n",
       "            date_published                                           headline  \\\n",
       "4     2020-01-18T19:20:36Z  Expert questions effectiveness of coronavirus ...   \n",
       "100   2020-01-29T06:00:39Z  UK supermarkets move to cut antibiotic use in ...   \n",
       "109   2020-01-29T18:14:54Z         Boris Johnson’s Chinese hospital challenge   \n",
       "472   2020-02-18T12:00:26Z  GPs are already overstretched. We need better ...   \n",
       "675   2020-02-27T18:07:29Z  Coronavirus: England only has 15 beds for wors...   \n",
       "823   2020-03-02T15:22:52Z  Coronavirus: just eight out of 1,600 doctors i...   \n",
       "879   2020-03-03T12:00:11Z  We crumblies are less afraid of the coronaviru...   \n",
       "963   2020-03-04T18:15:20Z  Prof Chris Whitty: the expert we need in the c...   \n",
       "970   2020-03-04T19:19:53Z  Care workers could be redeployed to UK coronav...   \n",
       "1215  2020-03-09T13:19:19Z  How to keep your hands clean – without getting...   \n",
       "1299  2020-03-10T11:21:38Z  Government fails to detail how retired doctors...   \n",
       "1328  2020-03-10T18:00:20Z           The coronavirus and an overstretched NHS   \n",
       "1653  2020-03-13T15:20:25Z  The hellish side of handwashing: how coronavir...   \n",
       "1932  2020-03-16T16:38:09Z  Charities face cash crisis as virus fears hit ...   \n",
       "1939  2020-03-16T17:40:36Z  St Mungo's staff strike over conditions and tr...   \n",
       "1946  2020-03-16T18:30:49Z  Benefits assessment suspension does not go far...   \n",
       "1968  2020-03-16T20:23:16Z  'Not fit for purpose': UK medics condemn Covid...   \n",
       "2040  2020-03-17T11:15:53Z  ‘Dogs have a magic effect’: how pets can impro...   \n",
       "2071  2020-03-17T15:28:55Z  How to help food banks during the coronavirus ...   \n",
       "2078  2020-03-17T16:08:34Z  Call to protect hospital staff from coronaviru...   \n",
       "2095  2020-03-17T17:01:57Z  Housing associations under pressure to offer C...   \n",
       "2120  2020-03-17T19:00:31Z  NHS to postpone millions of operations to tack...   \n",
       "2204  2020-03-18T11:58:06Z  Coronavirus: online therapy service to offer f...   \n",
       "2252  2020-03-18T16:53:49Z  What is the UK government's advice on social d...   \n",
       "2367  2020-03-19T10:00:50Z  Deaths of despair: why America’s medical indus...   \n",
       "\n",
       "                                                    url  \\\n",
       "4     https://www.theguardian.com/society/2020/jan/1...   \n",
       "100   https://www.theguardian.com/society/2020/jan/2...   \n",
       "109   https://www.theguardian.com/society/2020/jan/2...   \n",
       "472   https://www.theguardian.com/society/2020/feb/1...   \n",
       "675   https://www.theguardian.com/society/2020/feb/2...   \n",
       "823   https://www.theguardian.com/society/2020/mar/0...   \n",
       "879   https://www.theguardian.com/society/2020/mar/0...   \n",
       "963   https://www.theguardian.com/society/2020/mar/0...   \n",
       "970   https://www.theguardian.com/society/2020/mar/0...   \n",
       "1215  https://www.theguardian.com/society/shortcuts/...   \n",
       "1299  https://www.theguardian.com/society/2020/mar/1...   \n",
       "1328  https://www.theguardian.com/society/2020/mar/1...   \n",
       "1653  https://www.theguardian.com/society/2020/mar/1...   \n",
       "1932  https://www.theguardian.com/society/2020/mar/1...   \n",
       "1939  https://www.theguardian.com/society/2020/mar/1...   \n",
       "1946  https://www.theguardian.com/society/2020/mar/1...   \n",
       "1968  https://www.theguardian.com/society/2020/mar/1...   \n",
       "2040  https://www.theguardian.com/society/2020/mar/1...   \n",
       "2071  https://www.theguardian.com/society/shortcuts/...   \n",
       "2078  https://www.theguardian.com/society/2020/mar/1...   \n",
       "2095  https://www.theguardian.com/society/2020/mar/1...   \n",
       "2120  https://www.theguardian.com/society/2020/mar/1...   \n",
       "2204  https://www.theguardian.com/world/2020/mar/18/...   \n",
       "2252  https://www.theguardian.com/society/2020/mar/1...   \n",
       "2367  https://www.theguardian.com/society/2020/mar/1...   \n",
       "\n",
       "                                                   body  \n",
       "4     \\n\\nMedical staff at airports trying to screen...  \n",
       "100   \\n\\nMost of the UK’s leading supermarket chain...  \n",
       "109   \\n\\nIn response to the country’s coronavirus o...  \n",
       "472   \\n\\nIt is 8am and amid the morning rush of cal...  \n",
       "675   \\n\\nEngland only has 15 available beds for adu...  \n",
       "823   \\n\\nAn overwhelming majority of doctors fear t...  \n",
       "879   \\n\\n“If someone’s going to make my breakfast, ...  \n",
       "963   \\n\\nTo the broader public, Prof Chris Whitty, ...  \n",
       "970   \\n\\nCare workers could be redeployed to look a...  \n",
       "1215  \\n\\nDue to coronavirus, Britain has become a n...  \n",
       "1299  \\n\\nThe government is under pressure to spell ...  \n",
       "1328  \\n\\nWith an evolving Covid-19 virus epidemic, ...  \n",
       "1653  \\n\\nBoris Johnson does it while singing Happy ...  \n",
       "1932  \\n\\nVoluntary-sector leaders are warning that ...  \n",
       "1939  \\n\\nHundreds of workers at Britain’s biggest h...  \n",
       "1946  \\n\\nThe mental health charity Mind has said th...  \n",
       "1968  \\n\\nFrontline NHS staff are at risk of dying f...  \n",
       "2040  \\n\\nWhat is it about animals? As the bad news ...  \n",
       "2071  \\n\\nAway from the stockpiling hordes, food ban...  \n",
       "2078  \\n\\nScientists have issued an urgent call to p...  \n",
       "2095  \\n\\nHousing associations are under pressure to...  \n",
       "2120  \\n\\nMillions of operations are being postponed...  \n",
       "2204  \\n\\nAn online therapy service is to offer free...  \n",
       "2252  \\n\\n## What is social distancing?\\n\\nSocial di...  \n",
       "2367  \\n\\nThe US healthcare system is helping to kil...  "
      ]
     },
     "execution_count": 28,
     "metadata": {},
     "output_type": "execute_result"
    }
   ],
   "source": [
    "df = pd.DataFrame(processed_content)\n",
    "\n",
    "df = df.T\n",
    "df\n",
    "\n",
    "df['section'].unique()\n",
    "df.loc[df['section'] == 'Society']"
   ]
  },
  {
   "cell_type": "code",
   "execution_count": 9,
   "metadata": {},
   "outputs": [],
   "source": [
    "date_frequencies = {}\n",
    "\n",
    "for id in processed_content:\n",
    "    entry = processed_content[id]\n",
    "    date_published = entry['date_published'][:10]\n",
    "    \n",
    "    if date_published not in date_frequencies.keys():\n",
    "        date_frequencies[date_published] = 1\n",
    "    else:\n",
    "        date_frequencies[date_published] += 1\n"
   ]
  },
  {
   "cell_type": "code",
   "execution_count": 10,
   "metadata": {},
   "outputs": [
    {
     "data": {
      "text/html": [
       "<div>\n",
       "<style scoped>\n",
       "    .dataframe tbody tr th:only-of-type {\n",
       "        vertical-align: middle;\n",
       "    }\n",
       "\n",
       "    .dataframe tbody tr th {\n",
       "        vertical-align: top;\n",
       "    }\n",
       "\n",
       "    .dataframe thead th {\n",
       "        text-align: right;\n",
       "    }\n",
       "</style>\n",
       "<table border=\"1\" class=\"dataframe\">\n",
       "  <thead>\n",
       "    <tr style=\"text-align: right;\">\n",
       "      <th></th>\n",
       "      <th>2019-12-31</th>\n",
       "      <th>2020-01-09</th>\n",
       "      <th>2020-01-18</th>\n",
       "      <th>2020-01-21</th>\n",
       "      <th>2020-01-22</th>\n",
       "      <th>2020-01-23</th>\n",
       "      <th>2020-01-24</th>\n",
       "      <th>2020-01-25</th>\n",
       "      <th>2020-01-26</th>\n",
       "      <th>2020-01-27</th>\n",
       "      <th>...</th>\n",
       "      <th>2020-03-10</th>\n",
       "      <th>2020-03-11</th>\n",
       "      <th>2020-03-12</th>\n",
       "      <th>2020-03-13</th>\n",
       "      <th>2020-03-14</th>\n",
       "      <th>2020-03-15</th>\n",
       "      <th>2020-03-16</th>\n",
       "      <th>2020-03-17</th>\n",
       "      <th>2020-03-18</th>\n",
       "      <th>2020-03-19</th>\n",
       "    </tr>\n",
       "  </thead>\n",
       "  <tbody>\n",
       "    <tr>\n",
       "      <th>0</th>\n",
       "      <td>1</td>\n",
       "      <td>1</td>\n",
       "      <td>4</td>\n",
       "      <td>9</td>\n",
       "      <td>7</td>\n",
       "      <td>15</td>\n",
       "      <td>13</td>\n",
       "      <td>6</td>\n",
       "      <td>13</td>\n",
       "      <td>15</td>\n",
       "      <td>...</td>\n",
       "      <td>90</td>\n",
       "      <td>116</td>\n",
       "      <td>119</td>\n",
       "      <td>121</td>\n",
       "      <td>65</td>\n",
       "      <td>85</td>\n",
       "      <td>128</td>\n",
       "      <td>164</td>\n",
       "      <td>149</td>\n",
       "      <td>76</td>\n",
       "    </tr>\n",
       "  </tbody>\n",
       "</table>\n",
       "<p>1 rows × 62 columns</p>\n",
       "</div>"
      ],
      "text/plain": [
       "   2019-12-31  2020-01-09  2020-01-18  2020-01-21  2020-01-22  2020-01-23  \\\n",
       "0           1           1           4           9           7          15   \n",
       "\n",
       "   2020-01-24  2020-01-25  2020-01-26  2020-01-27  ...  2020-03-10  \\\n",
       "0          13           6          13          15  ...          90   \n",
       "\n",
       "   2020-03-11  2020-03-12  2020-03-13  2020-03-14  2020-03-15  2020-03-16  \\\n",
       "0         116         119         121          65          85         128   \n",
       "\n",
       "   2020-03-17  2020-03-18  2020-03-19  \n",
       "0         164         149          76  \n",
       "\n",
       "[1 rows x 62 columns]"
      ]
     },
     "execution_count": 10,
     "metadata": {},
     "output_type": "execute_result"
    }
   ],
   "source": [
    "df = pd.DataFrame(date_frequencies, index=[0])\n",
    "\n",
    "df"
   ]
  },
  {
   "cell_type": "code",
   "execution_count": 11,
   "metadata": {},
   "outputs": [
    {
     "data": {
      "text/plain": [
       "<BarContainer object of 62 artists>"
      ]
     },
     "execution_count": 11,
     "metadata": {},
     "output_type": "execute_result"
    },
    {
     "data": {
      "image/png": "[encoded data removed]",
      "text/plain": [
       "<Figure size 1152x864 with 1 Axes>"
      ]
     },
     "metadata": {
      "needs_background": "light"
     },
     "output_type": "display_data"
    }
   ],
   "source": [
    "plt.figure(figsize=(16, 12))\n",
    "plt.xticks(rotation=90)\n",
    "plt.bar(list(date_frequencies.keys()), list(date_frequencies.values()), 3, color='b')\n",
    "\n",
    "# plt.figure(figsize=(10, 10))"
   ]
  },
  {
   "cell_type": "code",
   "execution_count": 18,
   "metadata": {},
   "outputs": [
    {
     "name": "stdout",
     "output_type": "stream",
     "text": [
      "{\n",
      "  \"response\": {\n",
      "    \"status\": \"ok\",\n",
      "    \"userTier\": \"developer\",\n",
      "    \"total\": 6,\n",
      "    \"startIndex\": 1,\n",
      "    \"pageSize\": 10,\n",
      "    \"currentPage\": 1,\n",
      "    \"pages\": 1,\n",
      "    \"results\": [\n",
      "      {\n",
      "        \"id\": \"campaign/callout/callout-coronavirus\",\n",
      "        \"type\": \"campaign\",\n",
      "        \"webTitle\": \"callout-coronavirus\",\n",
      "        \"webUrl\": \"https://www.theguardian.com/campaign/callout/callout-coronavirus\",\n",
      "        \"apiUrl\": \"https://content.guardianapis.com/campaign/callout/callout-coronavirus\",\n",
      "        \"campaignInformationType\": \"callout\"\n",
      "      },\n",
      "      {\n",
      "        \"id\": \"world/series/coronavirus-live\",\n",
      "        \"type\": \"series\",\n",
      "        \"sectionId\": \"world\",\n",
      "        \"sectionName\": \"World news\",\n",
      "        \"webTitle\": \"Coronavirus live\",\n",
      "        \"webUrl\": \"https://www.theguardian.com/world/series/coronavirus-live\",\n",
      "        \"apiUrl\": \"https://content.guardianapis.com/world/series/coronavirus-live\",\n",
      "        \"description\": \"<p>Follow the Guardian's live coverage of the coronavirus outbreak<br></p>\"\n",
      "      },\n",
      "      {\n",
      "        \"id\": \"world/series/coronavirus-at-a-glance\",\n",
      "        \"type\": \"series\",\n",
      "        \"sectionId\": \"world\",\n",
      "        \"sectionName\": \"World news\",\n",
      "        \"webTitle\": \"Coronavirus: at a glance\",\n",
      "        \"webUrl\": \"https://www.theguardian.com/world/series/coronavirus-at-a-glance\",\n",
      "        \"apiUrl\": \"https://content.guardianapis.com/world/series/coronavirus-at-a-glance\",\n",
      "        \"description\": \"<p>Regular summaries of the biggest developments in the&nbsp;global coronavirus outbreak. <a href=\\\"https://www.theguardian.com/world/series/coronavirus-live\\\">Click here for latest news updates</a><br></p>\"\n",
      "      },\n",
      "      {\n",
      "        \"id\": \"world/coronavirus-outbreak\",\n",
      "        \"type\": \"keyword\",\n",
      "        \"sectionId\": \"world\",\n",
      "        \"sectionName\": \"World news\",\n",
      "        \"webTitle\": \"Coronavirus outbreak\",\n",
      "        \"webUrl\": \"https://www.theguardian.com/world/coronavirus-outbreak\",\n",
      "        \"apiUrl\": \"https://content.guardianapis.com/world/coronavirus-outbreak\"\n",
      "      },\n",
      "      {\n",
      "        \"id\": \"world/series/coronavirus-the-week-explained\",\n",
      "        \"type\": \"series\",\n",
      "        \"sectionId\": \"world\",\n",
      "        \"sectionName\": \"World news\",\n",
      "        \"webTitle\": \"Coronavirus: the week explained\",\n",
      "        \"webUrl\": \"https://www.theguardian.com/world/series/coronavirus-the-week-explained\",\n",
      "        \"apiUrl\": \"https://content.guardianapis.com/world/series/coronavirus-the-week-explained\",\n",
      "        \"description\": \"<p>Amid a fast-moving, global news story, our expert correspondents put a week's coronavirus developments in context. <a href=\\\"https://www.theguardian.com/world/2020/mar/18/coronavirus-the-week-explained-sign-up-for-our-email-newsletter\\\">Sign up here to get it delivered by email</a></p>\"\n",
      "      },\n",
      "      {\n",
      "        \"id\": \"us-news/series/coronavirus-life\",\n",
      "        \"type\": \"series\",\n",
      "        \"sectionId\": \"us-news\",\n",
      "        \"sectionName\": \"US news\",\n",
      "        \"webTitle\": \"Life in the time of corona\",\n",
      "        \"webUrl\": \"https://www.theguardian.com/us-news/series/coronavirus-life\",\n",
      "        \"apiUrl\": \"https://content.guardianapis.com/us-news/series/coronavirus-life\",\n",
      "        \"description\": \"<p>Advice and ideas for getting through the pandemic</p>\"\n",
      "      }\n",
      "    ]\n",
      "  }\n",
      "}\n"
     ]
    }
   ],
   "source": [
    "   \n",
    "    \n",
    "fetch_url = f'http://content.guardianapis.com/tags?q=coronavirus&api-key={GUARDIAN_API_KEY}'\n",
    "\n",
    "r = requests.get(fetch_url).json()\n",
    "print_json(r)"
   ]
  },
  {
   "cell_type": "code",
   "execution_count": null,
   "metadata": {},
   "outputs": [],
   "source": []
  }
 ],
 "metadata": {
  "kernelspec": {
   "display_name": "Python 3",
   "language": "python",
   "name": "python3"
  },
  "language_info": {
   "codemirror_mode": {
    "name": "ipython",
    "version": 3
   },
   "file_extension": ".py",
   "mimetype": "text/x-python",
   "name": "python",
   "nbconvert_exporter": "python",
   "pygments_lexer": "ipython3",
   "version": "3.7.3"
  }
 },
 "nbformat": 4,
 "nbformat_minor": 2
}
