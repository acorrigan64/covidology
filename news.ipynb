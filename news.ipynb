{
 "cells": [
  {
   "cell_type": "markdown",
   "metadata": {},
   "source": [
    "# News Scrapers"
   ]
  },
  {
   "cell_type": "code",
   "execution_count": 60,
   "metadata": {},
   "outputs": [],
   "source": [
    "import requests\n",
    "import json \n",
    "import pandas as pd\n",
    "import html2text\n",
    "import tqdm.notebook as tqdm\n",
    "import copy\n",
    "\n",
    "GUARDIAN_API_KEY =  \"6c15c612-076e-4fff-9023-194e033a4c85\""
   ]
  },
  {
   "cell_type": "markdown",
   "metadata": {},
   "source": [
    "## Utility Functions"
   ]
  },
  {
   "cell_type": "code",
   "execution_count": 51,
   "metadata": {},
   "outputs": [],
   "source": [
    "def print_json(results): \n",
    "    print(json.dumps(results, indent=2))\n",
    "\n",
    "h = html2text.HTML2Text()\n",
    "h.ignore_links = True"
   ]
  },
  {
   "cell_type": "markdown",
   "metadata": {},
   "source": [
    "## Guardian"
   ]
  },
  {
   "cell_type": "markdown",
   "metadata": {},
   "source": [
    "1. Get total number of pages of articles containing the words \"coronavirus\" and \"covid-19\""
   ]
  },
  {
   "cell_type": "code",
   "execution_count": 52,
   "metadata": {
    "scrolled": false
   },
   "outputs": [],
   "source": [
    "search_query = 'coronavirus|covid-19'\n",
    "from_date = '2019-12-25'\n",
    "order_by = 'oldest'\n",
    "page_size = '50'\n",
    "fields = 'headline'\n",
    "blocks = 'body'\n",
    "\n",
    "fetch_url = f'https://content.guardianapis.com/search?q={search_query}&from-date={from_date}&order-by={order_by}&page-size={page_size}&show-fields={fields}&show-blocks={blocks}&api-key={GUARDIAN_API_KEY}'\n",
    "\n",
    "r = requests.get(fetch_url).json()\n",
    "\n",
    "number_of_pages = r['response']['pages']\n"
   ]
  },
  {
   "cell_type": "markdown",
   "metadata": {},
   "source": [
    "2. Fetch every article from every page"
   ]
  },
  {
   "cell_type": "code",
   "execution_count": 110,
   "metadata": {},
   "outputs": [
    {
     "data": {
      "application/vnd.jupyter.widget-view+json": {
       "model_id": "f0c8eb49140342b3b23b90940d09e891",
       "version_major": 2,
       "version_minor": 0
      },
      "text/plain": [
       "HBox(children=(IntProgress(value=0, max=44), HTML(value='')))"
      ]
     },
     "metadata": {},
     "output_type": "display_data"
    },
    {
     "data": {
      "application/vnd.jupyter.widget-view+json": {
       "model_id": "",
       "version_major": 2,
       "version_minor": 0
      },
      "text/plain": [
       "HBox(children=(IntProgress(value=0, max=50), HTML(value='')))"
      ]
     },
     "metadata": {},
     "output_type": "display_data"
    },
    {
     "data": {
      "application/vnd.jupyter.widget-view+json": {
       "model_id": "",
       "version_major": 2,
       "version_minor": 0
      },
      "text/plain": [
       "HBox(children=(IntProgress(value=0, max=50), HTML(value='')))"
      ]
     },
     "metadata": {},
     "output_type": "display_data"
    },
    {
     "data": {
      "application/vnd.jupyter.widget-view+json": {
       "model_id": "",
       "version_major": 2,
       "version_minor": 0
      },
      "text/plain": [
       "HBox(children=(IntProgress(value=0, max=50), HTML(value='')))"
      ]
     },
     "metadata": {},
     "output_type": "display_data"
    },
    {
     "data": {
      "application/vnd.jupyter.widget-view+json": {
       "model_id": "",
       "version_major": 2,
       "version_minor": 0
      },
      "text/plain": [
       "HBox(children=(IntProgress(value=0, max=50), HTML(value='')))"
      ]
     },
     "metadata": {},
     "output_type": "display_data"
    },
    {
     "data": {
      "application/vnd.jupyter.widget-view+json": {
       "model_id": "",
       "version_major": 2,
       "version_minor": 0
      },
      "text/plain": [
       "HBox(children=(IntProgress(value=0, max=50), HTML(value='')))"
      ]
     },
     "metadata": {},
     "output_type": "display_data"
    },
    {
     "data": {
      "application/vnd.jupyter.widget-view+json": {
       "model_id": "",
       "version_major": 2,
       "version_minor": 0
      },
      "text/plain": [
       "HBox(children=(IntProgress(value=0, max=50), HTML(value='')))"
      ]
     },
     "metadata": {},
     "output_type": "display_data"
    },
    {
     "data": {
      "application/vnd.jupyter.widget-view+json": {
       "model_id": "",
       "version_major": 2,
       "version_minor": 0
      },
      "text/plain": [
       "HBox(children=(IntProgress(value=0, max=50), HTML(value='')))"
      ]
     },
     "metadata": {},
     "output_type": "display_data"
    },
    {
     "data": {
      "application/vnd.jupyter.widget-view+json": {
       "model_id": "",
       "version_major": 2,
       "version_minor": 0
      },
      "text/plain": [
       "HBox(children=(IntProgress(value=0, max=50), HTML(value='')))"
      ]
     },
     "metadata": {},
     "output_type": "display_data"
    },
    {
     "data": {
      "application/vnd.jupyter.widget-view+json": {
       "model_id": "",
       "version_major": 2,
       "version_minor": 0
      },
      "text/plain": [
       "HBox(children=(IntProgress(value=0, max=50), HTML(value='')))"
      ]
     },
     "metadata": {},
     "output_type": "display_data"
    },
    {
     "data": {
      "application/vnd.jupyter.widget-view+json": {
       "model_id": "",
       "version_major": 2,
       "version_minor": 0
      },
      "text/plain": [
       "HBox(children=(IntProgress(value=0, max=50), HTML(value='')))"
      ]
     },
     "metadata": {},
     "output_type": "display_data"
    },
    {
     "data": {
      "application/vnd.jupyter.widget-view+json": {
       "model_id": "",
       "version_major": 2,
       "version_minor": 0
      },
      "text/plain": [
       "HBox(children=(IntProgress(value=0, max=50), HTML(value='')))"
      ]
     },
     "metadata": {},
     "output_type": "display_data"
    },
    {
     "data": {
      "application/vnd.jupyter.widget-view+json": {
       "model_id": "",
       "version_major": 2,
       "version_minor": 0
      },
      "text/plain": [
       "HBox(children=(IntProgress(value=0, max=50), HTML(value='')))"
      ]
     },
     "metadata": {},
     "output_type": "display_data"
    },
    {
     "data": {
      "application/vnd.jupyter.widget-view+json": {
       "model_id": "",
       "version_major": 2,
       "version_minor": 0
      },
      "text/plain": [
       "HBox(children=(IntProgress(value=0, max=50), HTML(value='')))"
      ]
     },
     "metadata": {},
     "output_type": "display_data"
    },
    {
     "data": {
      "application/vnd.jupyter.widget-view+json": {
       "model_id": "",
       "version_major": 2,
       "version_minor": 0
      },
      "text/plain": [
       "HBox(children=(IntProgress(value=0, max=50), HTML(value='')))"
      ]
     },
     "metadata": {},
     "output_type": "display_data"
    },
    {
     "data": {
      "application/vnd.jupyter.widget-view+json": {
       "model_id": "",
       "version_major": 2,
       "version_minor": 0
      },
      "text/plain": [
       "HBox(children=(IntProgress(value=0, max=50), HTML(value='')))"
      ]
     },
     "metadata": {},
     "output_type": "display_data"
    },
    {
     "data": {
      "application/vnd.jupyter.widget-view+json": {
       "model_id": "",
       "version_major": 2,
       "version_minor": 0
      },
      "text/plain": [
       "HBox(children=(IntProgress(value=0, max=50), HTML(value='')))"
      ]
     },
     "metadata": {},
     "output_type": "display_data"
    },
    {
     "data": {
      "application/vnd.jupyter.widget-view+json": {
       "model_id": "",
       "version_major": 2,
       "version_minor": 0
      },
      "text/plain": [
       "HBox(children=(IntProgress(value=0, max=50), HTML(value='')))"
      ]
     },
     "metadata": {},
     "output_type": "display_data"
    },
    {
     "data": {
      "application/vnd.jupyter.widget-view+json": {
       "model_id": "",
       "version_major": 2,
       "version_minor": 0
      },
      "text/plain": [
       "HBox(children=(IntProgress(value=0, max=50), HTML(value='')))"
      ]
     },
     "metadata": {},
     "output_type": "display_data"
    },
    {
     "data": {
      "application/vnd.jupyter.widget-view+json": {
       "model_id": "",
       "version_major": 2,
       "version_minor": 0
      },
      "text/plain": [
       "HBox(children=(IntProgress(value=0, max=50), HTML(value='')))"
      ]
     },
     "metadata": {},
     "output_type": "display_data"
    },
    {
     "data": {
      "application/vnd.jupyter.widget-view+json": {
       "model_id": "",
       "version_major": 2,
       "version_minor": 0
      },
      "text/plain": [
       "HBox(children=(IntProgress(value=0, max=50), HTML(value='')))"
      ]
     },
     "metadata": {},
     "output_type": "display_data"
    },
    {
     "data": {
      "application/vnd.jupyter.widget-view+json": {
       "model_id": "",
       "version_major": 2,
       "version_minor": 0
      },
      "text/plain": [
       "HBox(children=(IntProgress(value=0, max=50), HTML(value='')))"
      ]
     },
     "metadata": {},
     "output_type": "display_data"
    },
    {
     "data": {
      "application/vnd.jupyter.widget-view+json": {
       "model_id": "",
       "version_major": 2,
       "version_minor": 0
      },
      "text/plain": [
       "HBox(children=(IntProgress(value=0, max=50), HTML(value='')))"
      ]
     },
     "metadata": {},
     "output_type": "display_data"
    },
    {
     "data": {
      "application/vnd.jupyter.widget-view+json": {
       "model_id": "",
       "version_major": 2,
       "version_minor": 0
      },
      "text/plain": [
       "HBox(children=(IntProgress(value=0, max=50), HTML(value='')))"
      ]
     },
     "metadata": {},
     "output_type": "display_data"
    },
    {
     "data": {
      "application/vnd.jupyter.widget-view+json": {
       "model_id": "",
       "version_major": 2,
       "version_minor": 0
      },
      "text/plain": [
       "HBox(children=(IntProgress(value=0, max=50), HTML(value='')))"
      ]
     },
     "metadata": {},
     "output_type": "display_data"
    },
    {
     "data": {
      "application/vnd.jupyter.widget-view+json": {
       "model_id": "",
       "version_major": 2,
       "version_minor": 0
      },
      "text/plain": [
       "HBox(children=(IntProgress(value=0, max=50), HTML(value='')))"
      ]
     },
     "metadata": {},
     "output_type": "display_data"
    },
    {
     "data": {
      "application/vnd.jupyter.widget-view+json": {
       "model_id": "",
       "version_major": 2,
       "version_minor": 0
      },
      "text/plain": [
       "HBox(children=(IntProgress(value=0, max=50), HTML(value='')))"
      ]
     },
     "metadata": {},
     "output_type": "display_data"
    },
    {
     "data": {
      "application/vnd.jupyter.widget-view+json": {
       "model_id": "",
       "version_major": 2,
       "version_minor": 0
      },
      "text/plain": [
       "HBox(children=(IntProgress(value=0, max=50), HTML(value='')))"
      ]
     },
     "metadata": {},
     "output_type": "display_data"
    },
    {
     "data": {
      "application/vnd.jupyter.widget-view+json": {
       "model_id": "",
       "version_major": 2,
       "version_minor": 0
      },
      "text/plain": [
       "HBox(children=(IntProgress(value=0, max=50), HTML(value='')))"
      ]
     },
     "metadata": {},
     "output_type": "display_data"
    },
    {
     "data": {
      "application/vnd.jupyter.widget-view+json": {
       "model_id": "",
       "version_major": 2,
       "version_minor": 0
      },
      "text/plain": [
       "HBox(children=(IntProgress(value=0, max=50), HTML(value='')))"
      ]
     },
     "metadata": {},
     "output_type": "display_data"
    },
    {
     "data": {
      "application/vnd.jupyter.widget-view+json": {
       "model_id": "",
       "version_major": 2,
       "version_minor": 0
      },
      "text/plain": [
       "HBox(children=(IntProgress(value=0, max=50), HTML(value='')))"
      ]
     },
     "metadata": {},
     "output_type": "display_data"
    },
    {
     "data": {
      "application/vnd.jupyter.widget-view+json": {
       "model_id": "",
       "version_major": 2,
       "version_minor": 0
      },
      "text/plain": [
       "HBox(children=(IntProgress(value=0, max=50), HTML(value='')))"
      ]
     },
     "metadata": {},
     "output_type": "display_data"
    },
    {
     "data": {
      "application/vnd.jupyter.widget-view+json": {
       "model_id": "",
       "version_major": 2,
       "version_minor": 0
      },
      "text/plain": [
       "HBox(children=(IntProgress(value=0, max=50), HTML(value='')))"
      ]
     },
     "metadata": {},
     "output_type": "display_data"
    },
    {
     "data": {
      "application/vnd.jupyter.widget-view+json": {
       "model_id": "",
       "version_major": 2,
       "version_minor": 0
      },
      "text/plain": [
       "HBox(children=(IntProgress(value=0, max=50), HTML(value='')))"
      ]
     },
     "metadata": {},
     "output_type": "display_data"
    },
    {
     "data": {
      "application/vnd.jupyter.widget-view+json": {
       "model_id": "",
       "version_major": 2,
       "version_minor": 0
      },
      "text/plain": [
       "HBox(children=(IntProgress(value=0, max=50), HTML(value='')))"
      ]
     },
     "metadata": {},
     "output_type": "display_data"
    },
    {
     "data": {
      "application/vnd.jupyter.widget-view+json": {
       "model_id": "",
       "version_major": 2,
       "version_minor": 0
      },
      "text/plain": [
       "HBox(children=(IntProgress(value=0, max=50), HTML(value='')))"
      ]
     },
     "metadata": {},
     "output_type": "display_data"
    },
    {
     "data": {
      "application/vnd.jupyter.widget-view+json": {
       "model_id": "",
       "version_major": 2,
       "version_minor": 0
      },
      "text/plain": [
       "HBox(children=(IntProgress(value=0, max=50), HTML(value='')))"
      ]
     },
     "metadata": {},
     "output_type": "display_data"
    },
    {
     "data": {
      "application/vnd.jupyter.widget-view+json": {
       "model_id": "",
       "version_major": 2,
       "version_minor": 0
      },
      "text/plain": [
       "HBox(children=(IntProgress(value=0, max=50), HTML(value='')))"
      ]
     },
     "metadata": {},
     "output_type": "display_data"
    },
    {
     "data": {
      "application/vnd.jupyter.widget-view+json": {
       "model_id": "",
       "version_major": 2,
       "version_minor": 0
      },
      "text/plain": [
       "HBox(children=(IntProgress(value=0, max=50), HTML(value='')))"
      ]
     },
     "metadata": {},
     "output_type": "display_data"
    },
    {
     "data": {
      "application/vnd.jupyter.widget-view+json": {
       "model_id": "",
       "version_major": 2,
       "version_minor": 0
      },
      "text/plain": [
       "HBox(children=(IntProgress(value=0, max=50), HTML(value='')))"
      ]
     },
     "metadata": {},
     "output_type": "display_data"
    },
    {
     "data": {
      "application/vnd.jupyter.widget-view+json": {
       "model_id": "",
       "version_major": 2,
       "version_minor": 0
      },
      "text/plain": [
       "HBox(children=(IntProgress(value=0, max=50), HTML(value='')))"
      ]
     },
     "metadata": {},
     "output_type": "display_data"
    },
    {
     "data": {
      "application/vnd.jupyter.widget-view+json": {
       "model_id": "",
       "version_major": 2,
       "version_minor": 0
      },
      "text/plain": [
       "HBox(children=(IntProgress(value=0, max=50), HTML(value='')))"
      ]
     },
     "metadata": {},
     "output_type": "display_data"
    },
    {
     "data": {
      "application/vnd.jupyter.widget-view+json": {
       "model_id": "",
       "version_major": 2,
       "version_minor": 0
      },
      "text/plain": [
       "HBox(children=(IntProgress(value=0, max=50), HTML(value='')))"
      ]
     },
     "metadata": {},
     "output_type": "display_data"
    },
    {
     "data": {
      "application/vnd.jupyter.widget-view+json": {
       "model_id": "",
       "version_major": 2,
       "version_minor": 0
      },
      "text/plain": [
       "HBox(children=(IntProgress(value=0, max=50), HTML(value='')))"
      ]
     },
     "metadata": {},
     "output_type": "display_data"
    },
    {
     "data": {
      "application/vnd.jupyter.widget-view+json": {
       "model_id": "",
       "version_major": 2,
       "version_minor": 0
      },
      "text/plain": [
       "HBox(children=(IntProgress(value=0, max=37), HTML(value='')))"
      ]
     },
     "metadata": {},
     "output_type": "display_data"
    },
    {
     "name": "stdout",
     "output_type": "stream",
     "text": [
      "\n",
      "Number of articles found: 2187\n"
     ]
    }
   ],
   "source": [
    "content = {}\n",
    "\n",
    "content_no = 0\n",
    "\n",
    "for page in tqdm.tqdm(range(1, number_of_pages + 1)):\n",
    "    fetch_url = f'https://content.guardianapis.com/search?q={search_query}&from-date={from_date}&order-by={order_by}&page-size={page_size}&show-fields={fields}&show-blocks={blocks}&page={page}&api-key={GUARDIAN_API_KEY}'\n",
    "    r = requests.get(fetch_url).json()\n",
    "   \n",
    "    results = r['response']['results']   \n",
    "\n",
    "    for result in tqdm.tqdm(results, leave=False):\n",
    "        \n",
    "        content[content_no] = {\n",
    "            'id': result['id'],\n",
    "            'section': result['sectionName'],\n",
    "            'date_published': result['webPublicationDate'],\n",
    "            'headline': result['fields']['headline'],\n",
    "            'url': result['webUrl'],\n",
    "            'body': h.handle(result['blocks']['body'][0]['bodyHtml'])\n",
    "        }\n",
    "        \n",
    "        content_no += 1\n",
    "\n",
    "print(f\"Number of articles found: {len(content.keys())}\")   "
   ]
  },
  {
   "cell_type": "markdown",
   "metadata": {},
   "source": [
    "3. Preprocess the data to remove any articles without the words \"coronavirus\" or \"covid-19\""
   ]
  },
  {
   "cell_type": "code",
   "execution_count": 111,
   "metadata": {},
   "outputs": [
    {
     "data": {
      "application/vnd.jupyter.widget-view+json": {
       "model_id": "ab8a9dcc6aed43828815946ef21d084d",
       "version_major": 2,
       "version_minor": 0
      },
      "text/plain": [
       "HBox(children=(IntProgress(value=0, max=2187), HTML(value='')))"
      ]
     },
     "metadata": {},
     "output_type": "display_data"
    },
    {
     "name": "stdout",
     "output_type": "stream",
     "text": [
      "\n"
     ]
    }
   ],
   "source": [
    "ids = list(content.keys())\n",
    "\n",
    "for id in tqdm.tqdm(ids):\n",
    "    entry = content[id]\n",
    "    body = entry['body']\n",
    "    body = body.split()\n",
    "        \n",
    "    no_coronavirus = \"coronavirus\" not in body\n",
    "    no_covid19 = \"covid-19\" not in body\n",
    "    no_COVID19 = \"COVID-19\" not in body\n",
    "        \n",
    "    if no_coronavirus and no_covid19 and no_COVID19:\n",
    "        content.pop(id)\n",
    "\n",
    "# Create final dict with correct article no\n",
    "processed_content = {}\n",
    "content_no = 0\n",
    "        \n",
    "for id in content.keys():\n",
    "    processed_content[content_no] = content[id]\n",
    "    content_no += 1"
   ]
  },
  {
   "cell_type": "markdown",
   "metadata": {},
   "source": [
    "4. Save data as `json`"
   ]
  },
  {
   "cell_type": "code",
   "execution_count": 112,
   "metadata": {},
   "outputs": [],
   "source": [
    "with open('news.json', 'w') as fp:\n",
    "    json.dump(processed_content, fp)"
   ]
  },
  {
   "cell_type": "code",
   "execution_count": 117,
   "metadata": {},
   "outputs": [
    {
     "name": "stdout",
     "output_type": "stream",
     "text": [
      "1766\n"
     ]
    },
    {
     "data": {
      "text/html": [
       "<div>\n",
       "<style scoped>\n",
       "    .dataframe tbody tr th:only-of-type {\n",
       "        vertical-align: middle;\n",
       "    }\n",
       "\n",
       "    .dataframe tbody tr th {\n",
       "        vertical-align: top;\n",
       "    }\n",
       "\n",
       "    .dataframe thead th {\n",
       "        text-align: right;\n",
       "    }\n",
       "</style>\n",
       "<table border=\"1\" class=\"dataframe\">\n",
       "  <thead>\n",
       "    <tr style=\"text-align: right;\">\n",
       "      <th></th>\n",
       "      <th>id</th>\n",
       "      <th>section</th>\n",
       "      <th>date_published</th>\n",
       "      <th>headline</th>\n",
       "      <th>url</th>\n",
       "      <th>body</th>\n",
       "    </tr>\n",
       "  </thead>\n",
       "  <tbody>\n",
       "    <tr>\n",
       "      <th>0</th>\n",
       "      <td>sport/2019/dec/31/sport-in-2020-calendar-your-...</td>\n",
       "      <td>Sport</td>\n",
       "      <td>2019-12-31T20:00:44Z</td>\n",
       "      <td>Sport in 2020 calendar: your month-by-month gu...</td>\n",
       "      <td>https://www.theguardian.com/sport/2019/dec/31/...</td>\n",
       "      <td>\\n\\n  * _A number of sporting events have been...</td>\n",
       "    </tr>\n",
       "    <tr>\n",
       "      <th>1</th>\n",
       "      <td>world/2020/jan/09/chinas-sars-like-illness-wor...</td>\n",
       "      <td>World news</td>\n",
       "      <td>2020-01-09T19:10:17Z</td>\n",
       "      <td>China's Sars-like illness worries health experts</td>\n",
       "      <td>https://www.theguardian.com/world/2020/jan/09/...</td>\n",
       "      <td>\\n\\nThe finding that the outbreak of viral pne...</td>\n",
       "    </tr>\n",
       "    <tr>\n",
       "      <th>2</th>\n",
       "      <td>world/2020/jan/18/coronavirus-what-airport-mea...</td>\n",
       "      <td>World news</td>\n",
       "      <td>2020-01-18T09:21:23Z</td>\n",
       "      <td>Coronavirus: what airport measures are in plac...</td>\n",
       "      <td>https://www.theguardian.com/world/2020/jan/18/...</td>\n",
       "      <td>\\n\\nInternational airports are stepping up scr...</td>\n",
       "    </tr>\n",
       "    <tr>\n",
       "      <th>3</th>\n",
       "      <td>australia-news/2020/jan/18/coronavirus-austral...</td>\n",
       "      <td>Australia news</td>\n",
       "      <td>2020-01-18T10:29:33Z</td>\n",
       "      <td>Coronavirus: Australia's top health official s...</td>\n",
       "      <td>https://www.theguardian.com/australia-news/202...</td>\n",
       "      <td>\\n\\nAustralia’s top health official says there...</td>\n",
       "    </tr>\n",
       "    <tr>\n",
       "      <th>4</th>\n",
       "      <td>society/2020/jan/18/expert-questions-effective...</td>\n",
       "      <td>Society</td>\n",
       "      <td>2020-01-18T19:20:36Z</td>\n",
       "      <td>Expert questions effectiveness of coronavirus ...</td>\n",
       "      <td>https://www.theguardian.com/society/2020/jan/1...</td>\n",
       "      <td>\\n\\nMedical staff at airports trying to screen...</td>\n",
       "    </tr>\n",
       "    <tr>\n",
       "      <th>...</th>\n",
       "      <td>...</td>\n",
       "      <td>...</td>\n",
       "      <td>...</td>\n",
       "      <td>...</td>\n",
       "      <td>...</td>\n",
       "      <td>...</td>\n",
       "    </tr>\n",
       "    <tr>\n",
       "      <th>1761</th>\n",
       "      <td>world/2020/mar/14/trump-coronavirus-travel-ban...</td>\n",
       "      <td>World news</td>\n",
       "      <td>2020-03-14T18:02:25Z</td>\n",
       "      <td>Will Trump's coronavirus travel ban work? Scie...</td>\n",
       "      <td>https://www.theguardian.com/world/2020/mar/14/...</td>\n",
       "      <td>\\n\\nDonald Trump’s dramatic announcement this ...</td>\n",
       "    </tr>\n",
       "    <tr>\n",
       "      <th>1762</th>\n",
       "      <td>world/2020/mar/14/solidarity-balcony-singing-s...</td>\n",
       "      <td>World news</td>\n",
       "      <td>2020-03-14T18:18:15Z</td>\n",
       "      <td>Solidarity balcony singing spreads across Ital...</td>\n",
       "      <td>https://www.theguardian.com/world/2020/mar/14/...</td>\n",
       "      <td>\\n\\nBalcony singing in solidarity has been a g...</td>\n",
       "    </tr>\n",
       "    <tr>\n",
       "      <th>1763</th>\n",
       "      <td>commentisfree/2020/mar/14/coronavirus-in-an-er...</td>\n",
       "      <td>Opinion</td>\n",
       "      <td>2020-03-14T18:30:35Z</td>\n",
       "      <td>The great divide is between the well and the s...</td>\n",
       "      <td>https://www.theguardian.com/commentisfree/2020...</td>\n",
       "      <td>\\n\\nSpeaking to parliament in 1855 as the carn...</td>\n",
       "    </tr>\n",
       "    <tr>\n",
       "      <th>1764</th>\n",
       "      <td>world/2020/mar/14/talk-about-death-coronavirus...</td>\n",
       "      <td>World news</td>\n",
       "      <td>2020-03-14T18:51:00Z</td>\n",
       "      <td>We can’t be squeamish about death. We need to ...</td>\n",
       "      <td>https://www.theguardian.com/world/2020/mar/14/...</td>\n",
       "      <td>\\n\\nAs the coronavirus spreads through the Bri...</td>\n",
       "    </tr>\n",
       "    <tr>\n",
       "      <th>1765</th>\n",
       "      <td>uk-news/2020/mar/14/oxford-story-museum-childr...</td>\n",
       "      <td>UK news</td>\n",
       "      <td>2020-03-15T06:59:00Z</td>\n",
       "      <td>Narnia to Wonderland: Oxford’s Story Museum br...</td>\n",
       "      <td>https://www.theguardian.com/uk-news/2020/mar/1...</td>\n",
       "      <td>\\n\\nFor fans of children’s literature, it is a...</td>\n",
       "    </tr>\n",
       "  </tbody>\n",
       "</table>\n",
       "<p>1766 rows × 6 columns</p>\n",
       "</div>"
      ],
      "text/plain": [
       "                                                     id         section  \\\n",
       "0     sport/2019/dec/31/sport-in-2020-calendar-your-...           Sport   \n",
       "1     world/2020/jan/09/chinas-sars-like-illness-wor...      World news   \n",
       "2     world/2020/jan/18/coronavirus-what-airport-mea...      World news   \n",
       "3     australia-news/2020/jan/18/coronavirus-austral...  Australia news   \n",
       "4     society/2020/jan/18/expert-questions-effective...         Society   \n",
       "...                                                 ...             ...   \n",
       "1761  world/2020/mar/14/trump-coronavirus-travel-ban...      World news   \n",
       "1762  world/2020/mar/14/solidarity-balcony-singing-s...      World news   \n",
       "1763  commentisfree/2020/mar/14/coronavirus-in-an-er...         Opinion   \n",
       "1764  world/2020/mar/14/talk-about-death-coronavirus...      World news   \n",
       "1765  uk-news/2020/mar/14/oxford-story-museum-childr...         UK news   \n",
       "\n",
       "            date_published                                           headline  \\\n",
       "0     2019-12-31T20:00:44Z  Sport in 2020 calendar: your month-by-month gu...   \n",
       "1     2020-01-09T19:10:17Z   China's Sars-like illness worries health experts   \n",
       "2     2020-01-18T09:21:23Z  Coronavirus: what airport measures are in plac...   \n",
       "3     2020-01-18T10:29:33Z  Coronavirus: Australia's top health official s...   \n",
       "4     2020-01-18T19:20:36Z  Expert questions effectiveness of coronavirus ...   \n",
       "...                    ...                                                ...   \n",
       "1761  2020-03-14T18:02:25Z  Will Trump's coronavirus travel ban work? Scie...   \n",
       "1762  2020-03-14T18:18:15Z  Solidarity balcony singing spreads across Ital...   \n",
       "1763  2020-03-14T18:30:35Z  The great divide is between the well and the s...   \n",
       "1764  2020-03-14T18:51:00Z  We can’t be squeamish about death. We need to ...   \n",
       "1765  2020-03-15T06:59:00Z  Narnia to Wonderland: Oxford’s Story Museum br...   \n",
       "\n",
       "                                                    url  \\\n",
       "0     https://www.theguardian.com/sport/2019/dec/31/...   \n",
       "1     https://www.theguardian.com/world/2020/jan/09/...   \n",
       "2     https://www.theguardian.com/world/2020/jan/18/...   \n",
       "3     https://www.theguardian.com/australia-news/202...   \n",
       "4     https://www.theguardian.com/society/2020/jan/1...   \n",
       "...                                                 ...   \n",
       "1761  https://www.theguardian.com/world/2020/mar/14/...   \n",
       "1762  https://www.theguardian.com/world/2020/mar/14/...   \n",
       "1763  https://www.theguardian.com/commentisfree/2020...   \n",
       "1764  https://www.theguardian.com/world/2020/mar/14/...   \n",
       "1765  https://www.theguardian.com/uk-news/2020/mar/1...   \n",
       "\n",
       "                                                   body  \n",
       "0     \\n\\n  * _A number of sporting events have been...  \n",
       "1     \\n\\nThe finding that the outbreak of viral pne...  \n",
       "2     \\n\\nInternational airports are stepping up scr...  \n",
       "3     \\n\\nAustralia’s top health official says there...  \n",
       "4     \\n\\nMedical staff at airports trying to screen...  \n",
       "...                                                 ...  \n",
       "1761  \\n\\nDonald Trump’s dramatic announcement this ...  \n",
       "1762  \\n\\nBalcony singing in solidarity has been a g...  \n",
       "1763  \\n\\nSpeaking to parliament in 1855 as the carn...  \n",
       "1764  \\n\\nAs the coronavirus spreads through the Bri...  \n",
       "1765  \\n\\nFor fans of children’s literature, it is a...  \n",
       "\n",
       "[1766 rows x 6 columns]"
      ]
     },
     "execution_count": 117,
     "metadata": {},
     "output_type": "execute_result"
    }
   ],
   "source": [
    "df = pd.DataFrame(processed_content)\n",
    "\n",
    "df.T"
   ]
  },
  {
   "cell_type": "code",
   "execution_count": null,
   "metadata": {},
   "outputs": [],
   "source": []
  }
 ],
 "metadata": {
  "kernelspec": {
   "display_name": "Python 3",
   "language": "python",
   "name": "python3"
  },
  "language_info": {
   "codemirror_mode": {
    "name": "ipython",
    "version": 3
   },
   "file_extension": ".py",
   "mimetype": "text/x-python",
   "name": "python",
   "nbconvert_exporter": "python",
   "pygments_lexer": "ipython3",
   "version": "3.7.3"
  }
 },
 "nbformat": 4,
 "nbformat_minor": 2
}
