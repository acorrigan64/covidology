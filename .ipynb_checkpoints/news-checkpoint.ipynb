{
 "cells": [
  {
   "cell_type": "markdown",
   "metadata": {},
   "source": [
    "# News Scrapers"
   ]
  },
  {
   "cell_type": "code",
   "execution_count": 60,
   "metadata": {},
   "outputs": [],
   "source": [
    "import requests\n",
    "import json \n",
    "import pandas as pd\n",
    "import html2text\n",
    "import tqdm.notebook as tqdm\n",
    "import copy\n",
    "\n",
    "GUARDIAN_API_KEY =  \"6c15c612-076e-4fff-9023-194e033a4c85\""
   ]
  },
  {
   "cell_type": "markdown",
   "metadata": {},
   "source": [
    "## Utility Functions"
   ]
  },
  {
   "cell_type": "code",
   "execution_count": 51,
   "metadata": {},
   "outputs": [],
   "source": [
    "def print_json(results): \n",
    "    print(json.dumps(results, indent=2))\n",
    "\n",
    "h = html2text.HTML2Text()\n",
    "h.ignore_links = True"
   ]
  },
  {
   "cell_type": "markdown",
   "metadata": {},
   "source": [
    "## Guardian"
   ]
  },
  {
   "cell_type": "markdown",
   "metadata": {},
   "source": [
    "1. Get total number of pages of articles containing the words \"coronavirus\" and \"covid-19\""
   ]
  },
  {
   "cell_type": "code",
   "execution_count": 52,
   "metadata": {
    "scrolled": false
   },
   "outputs": [],
   "source": [
    "search_query = 'coronavirus|covid-19'\n",
    "from_date = '2019-12-25'\n",
    "order_by = 'oldest'\n",
    "page_size = '50'\n",
    "fields = 'headline'\n",
    "blocks = 'body'\n",
    "\n",
    "fetch_url = f'https://content.guardianapis.com/search?q={search_query}&from-date={from_date}&order-by={order_by}&page-size={page_size}&show-fields={fields}&show-blocks={blocks}&api-key={GUARDIAN_API_KEY}'\n",
    "\n",
    "r = requests.get(fetch_url).json()\n",
    "\n",
    "number_of_pages = r['response']['pages']\n"
   ]
  },
  {
   "cell_type": "markdown",
   "metadata": {},
   "source": [
    "2. Fetch every article from every page"
   ]
  },
  {
   "cell_type": "code",
   "execution_count": 108,
   "metadata": {},
   "outputs": [
    {
     "data": {
      "application/vnd.jupyter.widget-view+json": {
       "model_id": "dbdcca588b0b48bba25b7552de276392",
       "version_major": 2,
       "version_minor": 0
      },
      "text/plain": [
       "HBox(children=(IntProgress(value=0, max=44), HTML(value='')))"
      ]
     },
     "metadata": {},
     "output_type": "display_data"
    },
    {
     "data": {
      "application/vnd.jupyter.widget-view+json": {
       "model_id": "",
       "version_major": 2,
       "version_minor": 0
      },
      "text/plain": [
       "HBox(children=(IntProgress(value=0, max=50), HTML(value='')))"
      ]
     },
     "metadata": {},
     "output_type": "display_data"
    },
    {
     "data": {
      "application/vnd.jupyter.widget-view+json": {
       "model_id": "",
       "version_major": 2,
       "version_minor": 0
      },
      "text/plain": [
       "HBox(children=(IntProgress(value=0, max=50), HTML(value='')))"
      ]
     },
     "metadata": {},
     "output_type": "display_data"
    },
    {
     "data": {
      "application/vnd.jupyter.widget-view+json": {
       "model_id": "",
       "version_major": 2,
       "version_minor": 0
      },
      "text/plain": [
       "HBox(children=(IntProgress(value=0, max=50), HTML(value='')))"
      ]
     },
     "metadata": {},
     "output_type": "display_data"
    },
    {
     "data": {
      "application/vnd.jupyter.widget-view+json": {
       "model_id": "",
       "version_major": 2,
       "version_minor": 0
      },
      "text/plain": [
       "HBox(children=(IntProgress(value=0, max=50), HTML(value='')))"
      ]
     },
     "metadata": {},
     "output_type": "display_data"
    },
    {
     "data": {
      "application/vnd.jupyter.widget-view+json": {
       "model_id": "",
       "version_major": 2,
       "version_minor": 0
      },
      "text/plain": [
       "HBox(children=(IntProgress(value=0, max=50), HTML(value='')))"
      ]
     },
     "metadata": {},
     "output_type": "display_data"
    },
    {
     "data": {
      "application/vnd.jupyter.widget-view+json": {
       "model_id": "",
       "version_major": 2,
       "version_minor": 0
      },
      "text/plain": [
       "HBox(children=(IntProgress(value=0, max=50), HTML(value='')))"
      ]
     },
     "metadata": {},
     "output_type": "display_data"
    },
    {
     "data": {
      "application/vnd.jupyter.widget-view+json": {
       "model_id": "",
       "version_major": 2,
       "version_minor": 0
      },
      "text/plain": [
       "HBox(children=(IntProgress(value=0, max=50), HTML(value='')))"
      ]
     },
     "metadata": {},
     "output_type": "display_data"
    },
    {
     "data": {
      "application/vnd.jupyter.widget-view+json": {
       "model_id": "",
       "version_major": 2,
       "version_minor": 0
      },
      "text/plain": [
       "HBox(children=(IntProgress(value=0, max=50), HTML(value='')))"
      ]
     },
     "metadata": {},
     "output_type": "display_data"
    },
    {
     "data": {
      "application/vnd.jupyter.widget-view+json": {
       "model_id": "",
       "version_major": 2,
       "version_minor": 0
      },
      "text/plain": [
       "HBox(children=(IntProgress(value=0, max=50), HTML(value='')))"
      ]
     },
     "metadata": {},
     "output_type": "display_data"
    },
    {
     "data": {
      "application/vnd.jupyter.widget-view+json": {
       "model_id": "",
       "version_major": 2,
       "version_minor": 0
      },
      "text/plain": [
       "HBox(children=(IntProgress(value=0, max=50), HTML(value='')))"
      ]
     },
     "metadata": {},
     "output_type": "display_data"
    },
    {
     "data": {
      "application/vnd.jupyter.widget-view+json": {
       "model_id": "",
       "version_major": 2,
       "version_minor": 0
      },
      "text/plain": [
       "HBox(children=(IntProgress(value=0, max=50), HTML(value='')))"
      ]
     },
     "metadata": {},
     "output_type": "display_data"
    },
    {
     "data": {
      "application/vnd.jupyter.widget-view+json": {
       "model_id": "",
       "version_major": 2,
       "version_minor": 0
      },
      "text/plain": [
       "HBox(children=(IntProgress(value=0, max=50), HTML(value='')))"
      ]
     },
     "metadata": {},
     "output_type": "display_data"
    },
    {
     "data": {
      "application/vnd.jupyter.widget-view+json": {
       "model_id": "",
       "version_major": 2,
       "version_minor": 0
      },
      "text/plain": [
       "HBox(children=(IntProgress(value=0, max=50), HTML(value='')))"
      ]
     },
     "metadata": {},
     "output_type": "display_data"
    },
    {
     "data": {
      "application/vnd.jupyter.widget-view+json": {
       "model_id": "",
       "version_major": 2,
       "version_minor": 0
      },
      "text/plain": [
       "HBox(children=(IntProgress(value=0, max=50), HTML(value='')))"
      ]
     },
     "metadata": {},
     "output_type": "display_data"
    },
    {
     "data": {
      "application/vnd.jupyter.widget-view+json": {
       "model_id": "",
       "version_major": 2,
       "version_minor": 0
      },
      "text/plain": [
       "HBox(children=(IntProgress(value=0, max=50), HTML(value='')))"
      ]
     },
     "metadata": {},
     "output_type": "display_data"
    },
    {
     "data": {
      "application/vnd.jupyter.widget-view+json": {
       "model_id": "",
       "version_major": 2,
       "version_minor": 0
      },
      "text/plain": [
       "HBox(children=(IntProgress(value=0, max=50), HTML(value='')))"
      ]
     },
     "metadata": {},
     "output_type": "display_data"
    },
    {
     "data": {
      "application/vnd.jupyter.widget-view+json": {
       "model_id": "",
       "version_major": 2,
       "version_minor": 0
      },
      "text/plain": [
       "HBox(children=(IntProgress(value=0, max=50), HTML(value='')))"
      ]
     },
     "metadata": {},
     "output_type": "display_data"
    },
    {
     "data": {
      "application/vnd.jupyter.widget-view+json": {
       "model_id": "",
       "version_major": 2,
       "version_minor": 0
      },
      "text/plain": [
       "HBox(children=(IntProgress(value=0, max=50), HTML(value='')))"
      ]
     },
     "metadata": {},
     "output_type": "display_data"
    },
    {
     "data": {
      "application/vnd.jupyter.widget-view+json": {
       "model_id": "",
       "version_major": 2,
       "version_minor": 0
      },
      "text/plain": [
       "HBox(children=(IntProgress(value=0, max=50), HTML(value='')))"
      ]
     },
     "metadata": {},
     "output_type": "display_data"
    },
    {
     "data": {
      "application/vnd.jupyter.widget-view+json": {
       "model_id": "",
       "version_major": 2,
       "version_minor": 0
      },
      "text/plain": [
       "HBox(children=(IntProgress(value=0, max=50), HTML(value='')))"
      ]
     },
     "metadata": {},
     "output_type": "display_data"
    },
    {
     "data": {
      "application/vnd.jupyter.widget-view+json": {
       "model_id": "",
       "version_major": 2,
       "version_minor": 0
      },
      "text/plain": [
       "HBox(children=(IntProgress(value=0, max=50), HTML(value='')))"
      ]
     },
     "metadata": {},
     "output_type": "display_data"
    },
    {
     "data": {
      "application/vnd.jupyter.widget-view+json": {
       "model_id": "",
       "version_major": 2,
       "version_minor": 0
      },
      "text/plain": [
       "HBox(children=(IntProgress(value=0, max=50), HTML(value='')))"
      ]
     },
     "metadata": {},
     "output_type": "display_data"
    },
    {
     "data": {
      "application/vnd.jupyter.widget-view+json": {
       "model_id": "",
       "version_major": 2,
       "version_minor": 0
      },
      "text/plain": [
       "HBox(children=(IntProgress(value=0, max=50), HTML(value='')))"
      ]
     },
     "metadata": {},
     "output_type": "display_data"
    },
    {
     "data": {
      "application/vnd.jupyter.widget-view+json": {
       "model_id": "",
       "version_major": 2,
       "version_minor": 0
      },
      "text/plain": [
       "HBox(children=(IntProgress(value=0, max=50), HTML(value='')))"
      ]
     },
     "metadata": {},
     "output_type": "display_data"
    },
    {
     "data": {
      "application/vnd.jupyter.widget-view+json": {
       "model_id": "",
       "version_major": 2,
       "version_minor": 0
      },
      "text/plain": [
       "HBox(children=(IntProgress(value=0, max=50), HTML(value='')))"
      ]
     },
     "metadata": {},
     "output_type": "display_data"
    },
    {
     "data": {
      "application/vnd.jupyter.widget-view+json": {
       "model_id": "",
       "version_major": 2,
       "version_minor": 0
      },
      "text/plain": [
       "HBox(children=(IntProgress(value=0, max=50), HTML(value='')))"
      ]
     },
     "metadata": {},
     "output_type": "display_data"
    },
    {
     "data": {
      "application/vnd.jupyter.widget-view+json": {
       "model_id": "",
       "version_major": 2,
       "version_minor": 0
      },
      "text/plain": [
       "HBox(children=(IntProgress(value=0, max=50), HTML(value='')))"
      ]
     },
     "metadata": {},
     "output_type": "display_data"
    },
    {
     "data": {
      "application/vnd.jupyter.widget-view+json": {
       "model_id": "",
       "version_major": 2,
       "version_minor": 0
      },
      "text/plain": [
       "HBox(children=(IntProgress(value=0, max=50), HTML(value='')))"
      ]
     },
     "metadata": {},
     "output_type": "display_data"
    },
    {
     "data": {
      "application/vnd.jupyter.widget-view+json": {
       "model_id": "",
       "version_major": 2,
       "version_minor": 0
      },
      "text/plain": [
       "HBox(children=(IntProgress(value=0, max=50), HTML(value='')))"
      ]
     },
     "metadata": {},
     "output_type": "display_data"
    },
    {
     "data": {
      "application/vnd.jupyter.widget-view+json": {
       "model_id": "",
       "version_major": 2,
       "version_minor": 0
      },
      "text/plain": [
       "HBox(children=(IntProgress(value=0, max=50), HTML(value='')))"
      ]
     },
     "metadata": {},
     "output_type": "display_data"
    },
    {
     "data": {
      "application/vnd.jupyter.widget-view+json": {
       "model_id": "",
       "version_major": 2,
       "version_minor": 0
      },
      "text/plain": [
       "HBox(children=(IntProgress(value=0, max=50), HTML(value='')))"
      ]
     },
     "metadata": {},
     "output_type": "display_data"
    },
    {
     "data": {
      "application/vnd.jupyter.widget-view+json": {
       "model_id": "",
       "version_major": 2,
       "version_minor": 0
      },
      "text/plain": [
       "HBox(children=(IntProgress(value=0, max=50), HTML(value='')))"
      ]
     },
     "metadata": {},
     "output_type": "display_data"
    },
    {
     "data": {
      "application/vnd.jupyter.widget-view+json": {
       "model_id": "",
       "version_major": 2,
       "version_minor": 0
      },
      "text/plain": [
       "HBox(children=(IntProgress(value=0, max=50), HTML(value='')))"
      ]
     },
     "metadata": {},
     "output_type": "display_data"
    },
    {
     "data": {
      "application/vnd.jupyter.widget-view+json": {
       "model_id": "",
       "version_major": 2,
       "version_minor": 0
      },
      "text/plain": [
       "HBox(children=(IntProgress(value=0, max=50), HTML(value='')))"
      ]
     },
     "metadata": {},
     "output_type": "display_data"
    },
    {
     "data": {
      "application/vnd.jupyter.widget-view+json": {
       "model_id": "",
       "version_major": 2,
       "version_minor": 0
      },
      "text/plain": [
       "HBox(children=(IntProgress(value=0, max=50), HTML(value='')))"
      ]
     },
     "metadata": {},
     "output_type": "display_data"
    },
    {
     "data": {
      "application/vnd.jupyter.widget-view+json": {
       "model_id": "",
       "version_major": 2,
       "version_minor": 0
      },
      "text/plain": [
       "HBox(children=(IntProgress(value=0, max=50), HTML(value='')))"
      ]
     },
     "metadata": {},
     "output_type": "display_data"
    },
    {
     "data": {
      "application/vnd.jupyter.widget-view+json": {
       "model_id": "",
       "version_major": 2,
       "version_minor": 0
      },
      "text/plain": [
       "HBox(children=(IntProgress(value=0, max=50), HTML(value='')))"
      ]
     },
     "metadata": {},
     "output_type": "display_data"
    },
    {
     "data": {
      "application/vnd.jupyter.widget-view+json": {
       "model_id": "",
       "version_major": 2,
       "version_minor": 0
      },
      "text/plain": [
       "HBox(children=(IntProgress(value=0, max=50), HTML(value='')))"
      ]
     },
     "metadata": {},
     "output_type": "display_data"
    },
    {
     "data": {
      "application/vnd.jupyter.widget-view+json": {
       "model_id": "",
       "version_major": 2,
       "version_minor": 0
      },
      "text/plain": [
       "HBox(children=(IntProgress(value=0, max=50), HTML(value='')))"
      ]
     },
     "metadata": {},
     "output_type": "display_data"
    },
    {
     "data": {
      "application/vnd.jupyter.widget-view+json": {
       "model_id": "",
       "version_major": 2,
       "version_minor": 0
      },
      "text/plain": [
       "HBox(children=(IntProgress(value=0, max=50), HTML(value='')))"
      ]
     },
     "metadata": {},
     "output_type": "display_data"
    },
    {
     "data": {
      "application/vnd.jupyter.widget-view+json": {
       "model_id": "",
       "version_major": 2,
       "version_minor": 0
      },
      "text/plain": [
       "HBox(children=(IntProgress(value=0, max=50), HTML(value='')))"
      ]
     },
     "metadata": {},
     "output_type": "display_data"
    },
    {
     "data": {
      "application/vnd.jupyter.widget-view+json": {
       "model_id": "",
       "version_major": 2,
       "version_minor": 0
      },
      "text/plain": [
       "HBox(children=(IntProgress(value=0, max=50), HTML(value='')))"
      ]
     },
     "metadata": {},
     "output_type": "display_data"
    },
    {
     "data": {
      "application/vnd.jupyter.widget-view+json": {
       "model_id": "",
       "version_major": 2,
       "version_minor": 0
      },
      "text/plain": [
       "HBox(children=(IntProgress(value=0, max=50), HTML(value='')))"
      ]
     },
     "metadata": {},
     "output_type": "display_data"
    },
    {
     "data": {
      "application/vnd.jupyter.widget-view+json": {
       "model_id": "",
       "version_major": 2,
       "version_minor": 0
      },
      "text/plain": [
       "HBox(children=(IntProgress(value=0, max=37), HTML(value='')))"
      ]
     },
     "metadata": {},
     "output_type": "display_data"
    },
    {
     "name": "stdout",
     "output_type": "stream",
     "text": [
      "\n",
      "Number of articles found: 2187\n"
     ]
    }
   ],
   "source": [
    "content = {}\n",
    "\n",
    "content_no = 0\n",
    "\n",
    "for page in tqdm.tqdm(range(1, number_of_pages + 1)):\n",
    "    fetch_url = f'https://content.guardianapis.com/search?q={search_query}&from-date={from_date}&order-by={order_by}&page-size={page_size}&show-fields={fields}&show-blocks={blocks}&page={page}&api-key={GUARDIAN_API_KEY}'\n",
    "    r = requests.get(fetch_url).json()\n",
    "   \n",
    "    results = r['response']['results']   \n",
    "\n",
    "    for result in tqdm.tqdm(results, leave=False):\n",
    "        \n",
    "        content[content_no] = {\n",
    "            'id': result['id'],\n",
    "            'section': result['sectionName'],\n",
    "            'date_published': result['webPublicationDate'],\n",
    "            'headline': result['fields']['headline'],\n",
    "            'url': result['webUrl'],\n",
    "            'body': h.handle(result['blocks']['body'][0]['bodyHtml'])\n",
    "        }\n",
    "        \n",
    "        content_no += 1\n",
    "\n",
    "print(f\"Number of articles found: {len(content.keys())}\")   "
   ]
  },
  {
   "cell_type": "markdown",
   "metadata": {},
   "source": [
    "3. Preprocess the data to remove any articles without the words \"coronavirus\" or \"covid-19\""
   ]
  },
  {
   "cell_type": "code",
   "execution_count": 105,
   "metadata": {},
   "outputs": [
    {
     "name": "stdout",
     "output_type": "stream",
     "text": [
      "2187\n"
     ]
    },
    {
     "data": {
      "application/vnd.jupyter.widget-view+json": {
       "model_id": "9b28a23a53554cbab85e89cccd32d4e1",
       "version_major": 2,
       "version_minor": 0
      },
      "text/plain": [
       "HBox(children=(IntProgress(value=0, max=2187), HTML(value='')))"
      ]
     },
     "metadata": {},
     "output_type": "display_data"
    },
    {
     "name": "stdout",
     "output_type": "stream",
     "text": [
      "\n"
     ]
    }
   ],
   "source": [
    "proces_content = {}\n",
    "\n",
    "ids = list(content.keys())\n",
    "\n",
    "for id in tqdm.tqdm(ids):\n",
    "    entry = content[id]\n",
    "    body = entry['body']\n",
    "    body = body.split()\n",
    "        \n",
    "    no_coronavirus = \"coronavirus\" not in body\n",
    "    no_covid19 = \"covid-19\" not in body\n",
    "    no_COVID19 = \"COVID-19\" not in body\n",
    "        \n",
    "    if no_coronavirus and no_covid19 and no_COVID19:\n",
    "        content.pop(id)\n",
    "\n",
    "content_no = 0\n",
    "        \n",
    "for id in content.keys():\n",
    "    final_content\n",
    "    \n",
    "# Correct number"
   ]
  },
  {
   "cell_type": "markdown",
   "metadata": {},
   "source": [
    "4. Save data as `json`"
   ]
  },
  {
   "cell_type": "code",
   "execution_count": 106,
   "metadata": {},
   "outputs": [],
   "source": [
    "with open('news.json', 'w') as fp:\n",
    "    json.dump(content, fp)"
   ]
  },
  {
   "cell_type": "code",
   "execution_count": 107,
   "metadata": {},
   "outputs": [
    {
     "name": "stdout",
     "output_type": "stream",
     "text": [
      "1766\n",
      "                                                             5     \\\n",
      "id              sport/2019/dec/31/sport-in-2020-calendar-your-...   \n",
      "section                                                     Sport   \n",
      "date_published                               2019-12-31T20:00:44Z   \n",
      "headline        Sport in 2020 calendar: your month-by-month gu...   \n",
      "url             https://www.theguardian.com/sport/2019/dec/31/...   \n",
      "body            \\n\\n  * _A number of sporting events have been...   \n",
      "\n",
      "                                                             13    \\\n",
      "id              world/2020/jan/09/chinas-sars-like-illness-wor...   \n",
      "section                                                World news   \n",
      "date_published                               2020-01-09T19:10:17Z   \n",
      "headline         China's Sars-like illness worries health experts   \n",
      "url             https://www.theguardian.com/world/2020/jan/09/...   \n",
      "body            \\n\\nThe finding that the outbreak of viral pne...   \n",
      "\n",
      "                                                             19    \\\n",
      "id              world/2020/jan/18/coronavirus-what-airport-mea...   \n",
      "section                                                World news   \n",
      "date_published                               2020-01-18T09:21:23Z   \n",
      "headline        Coronavirus: what airport measures are in plac...   \n",
      "url             https://www.theguardian.com/world/2020/jan/18/...   \n",
      "body            \\n\\nInternational airports are stepping up scr...   \n",
      "\n",
      "                                                             20    \\\n",
      "id              australia-news/2020/jan/18/coronavirus-austral...   \n",
      "section                                            Australia news   \n",
      "date_published                               2020-01-18T10:29:33Z   \n",
      "headline        Coronavirus: Australia's top health official s...   \n",
      "url             https://www.theguardian.com/australia-news/202...   \n",
      "body            \\n\\nAustralia’s top health official says there...   \n",
      "\n",
      "                                                             21    \\\n",
      "id              society/2020/jan/18/expert-questions-effective...   \n",
      "section                                                   Society   \n",
      "date_published                               2020-01-18T19:20:36Z   \n",
      "headline        Expert questions effectiveness of coronavirus ...   \n",
      "url             https://www.theguardian.com/society/2020/jan/1...   \n",
      "body            \\n\\nMedical staff at airports trying to screen...   \n",
      "\n",
      "                                                             22    \\\n",
      "id              world/2020/jan/18/no-airport-screening-for-new...   \n",
      "section                                                World news   \n",
      "date_published                               2020-01-18T19:20:36Z   \n",
      "headline        No screening for new Sars-like virus at UK air...   \n",
      "url             https://www.theguardian.com/world/2020/jan/18/...   \n",
      "body            \\n\\nHealth officials have ruled out introducin...   \n",
      "\n",
      "                                                             38    \\\n",
      "id              australia-news/2020/jan/21/coronavirus-austral...   \n",
      "section                                            Australia news   \n",
      "date_published                               2020-01-21T00:34:10Z   \n",
      "headline        Coronavirus: Australia to screen passengers on...   \n",
      "url             https://www.theguardian.com/australia-news/202...   \n",
      "body            \\n\\nAustralia will begin screening passengers ...   \n",
      "\n",
      "                                                             39    \\\n",
      "id              world/2020/jan/20/coronavirus-spreads-to-beiji...   \n",
      "section                                                World news   \n",
      "date_published                               2020-01-21T04:28:20Z   \n",
      "headline        China confirms human-to-human transmission of ...   \n",
      "url             https://www.theguardian.com/world/2020/jan/20/...   \n",
      "body            \\n\\nChina’s health ministry has confirmed huma...   \n",
      "\n",
      "                                                             40    \\\n",
      "id              world/2020/jan/21/tuesday-briefing-convicted-t...   \n",
      "section                                                World news   \n",
      "date_published                               2020-01-21T06:25:16Z   \n",
      "headline        Tuesday briefing: Convicted terrorists to face...   \n",
      "url             https://www.theguardian.com/world/2020/jan/21/...   \n",
      "body            \\n\\n## Top story: ‘Admission of failure’ in fi...   \n",
      "\n",
      "                                                             41    ...  \\\n",
      "id              world/2020/jan/21/coronavirus-shares-in-asia-p...  ...   \n",
      "section                                                World news  ...   \n",
      "date_published                               2020-01-21T09:00:43Z  ...   \n",
      "headline        Coronavirus: shares in Asia Pacific fall sharp...  ...   \n",
      "url             https://www.theguardian.com/world/2020/jan/21/...  ...   \n",
      "body            \\n\\nShares have fallen across Asia Pacific ami...  ...   \n",
      "\n",
      "                                                             2173  \\\n",
      "id              world/2020/mar/14/coronavirus-death-toll-in-uk...   \n",
      "section                                                World news   \n",
      "date_published                               2020-03-14T16:12:54Z   \n",
      "headline         Coronavirus death toll in UK doubles in 24 hours   \n",
      "url             https://www.theguardian.com/world/2020/mar/14/...   \n",
      "body            \\n\\nThe coronavirus death toll in the UK has d...   \n",
      "\n",
      "                                                             2176  \\\n",
      "id              money/2020/mar/14/video-conference-call-tips-s...   \n",
      "section                                                     Money   \n",
      "date_published                               2020-03-14T17:30:34Z   \n",
      "headline        Working from home? Video conference call tips ...   \n",
      "url             https://www.theguardian.com/money/2020/mar/14/...   \n",
      "body            \\n\\nThe first rule when it comes to video conf...   \n",
      "\n",
      "                                                             2177  \\\n",
      "id              us-news/2020/mar/14/trump-coronavirus-paid-sic...   \n",
      "section                                                   US news   \n",
      "date_published                               2020-03-14T17:39:35Z   \n",
      "headline        Trump says he took coronavirus test and expand...   \n",
      "url             https://www.theguardian.com/us-news/2020/mar/1...   \n",
      "body            \\n\\nDonald Trump has announced new measures to...   \n",
      "\n",
      "                                                             2178  \\\n",
      "id              world/2020/mar/14/only-36-of-britons-trust-bor...   \n",
      "section                                                World news   \n",
      "date_published                               2020-03-14T17:49:34Z   \n",
      "headline        Only 36% of Britons trust Boris Johnson on cor...   \n",
      "url             https://www.theguardian.com/world/2020/mar/14/...   \n",
      "body            \\n\\nThe public trusts coronavirus information ...   \n",
      "\n",
      "                                                             2179  \\\n",
      "id              politics/2020/mar/14/calls-to-extend-eu-transi...   \n",
      "section                                                  Politics   \n",
      "date_published                               2020-03-14T17:55:34Z   \n",
      "headline        Brexit: coronavirus sparks calls to extend EU ...   \n",
      "url             https://www.theguardian.com/politics/2020/mar/...   \n",
      "body            \\n\\nBritain and the EU are facing calls to bac...   \n",
      "\n",
      "                                                             2180  \\\n",
      "id              world/2020/mar/14/trump-coronavirus-travel-ban...   \n",
      "section                                                World news   \n",
      "date_published                               2020-03-14T18:02:25Z   \n",
      "headline        Will Trump's coronavirus travel ban work? Scie...   \n",
      "url             https://www.theguardian.com/world/2020/mar/14/...   \n",
      "body            \\n\\nDonald Trump’s dramatic announcement this ...   \n",
      "\n",
      "                                                             2181  \\\n",
      "id              world/2020/mar/14/solidarity-balcony-singing-s...   \n",
      "section                                                World news   \n",
      "date_published                               2020-03-14T18:18:15Z   \n",
      "headline        Solidarity balcony singing spreads across Ital...   \n",
      "url             https://www.theguardian.com/world/2020/mar/14/...   \n",
      "body            \\n\\nBalcony singing in solidarity has been a g...   \n",
      "\n",
      "                                                             2182  \\\n",
      "id              commentisfree/2020/mar/14/coronavirus-in-an-er...   \n",
      "section                                                   Opinion   \n",
      "date_published                               2020-03-14T18:30:35Z   \n",
      "headline        The great divide is between the well and the s...   \n",
      "url             https://www.theguardian.com/commentisfree/2020...   \n",
      "body            \\n\\nSpeaking to parliament in 1855 as the carn...   \n",
      "\n",
      "                                                             2184  \\\n",
      "id              world/2020/mar/14/talk-about-death-coronavirus...   \n",
      "section                                                World news   \n",
      "date_published                               2020-03-14T18:51:00Z   \n",
      "headline        We can’t be squeamish about death. We need to ...   \n",
      "url             https://www.theguardian.com/world/2020/mar/14/...   \n",
      "body            \\n\\nAs the coronavirus spreads through the Bri...   \n",
      "\n",
      "                                                             2186  \n",
      "id              uk-news/2020/mar/14/oxford-story-museum-childr...  \n",
      "section                                                   UK news  \n",
      "date_published                               2020-03-15T06:59:00Z  \n",
      "headline        Narnia to Wonderland: Oxford’s Story Museum br...  \n",
      "url             https://www.theguardian.com/uk-news/2020/mar/1...  \n",
      "body            \\n\\nFor fans of children’s literature, it is a...  \n",
      "\n",
      "[6 rows x 1766 columns]\n"
     ]
    }
   ],
   "source": [
    "print(len(content.keys()))\n",
    "df = pd.DataFrame(content)\n",
    "print(df)\n",
    "\n",
    "# df.pivot(index='id')"
   ]
  },
  {
   "cell_type": "code",
   "execution_count": null,
   "metadata": {},
   "outputs": [],
   "source": []
  }
 ],
 "metadata": {
  "kernelspec": {
   "display_name": "Python 3",
   "language": "python",
   "name": "python3"
  },
  "language_info": {
   "codemirror_mode": {
    "name": "ipython",
    "version": 3
   },
   "file_extension": ".py",
   "mimetype": "text/x-python",
   "name": "python",
   "nbconvert_exporter": "python",
   "pygments_lexer": "ipython3",
   "version": "3.7.3"
  }
 },
 "nbformat": 4,
 "nbformat_minor": 2
}
